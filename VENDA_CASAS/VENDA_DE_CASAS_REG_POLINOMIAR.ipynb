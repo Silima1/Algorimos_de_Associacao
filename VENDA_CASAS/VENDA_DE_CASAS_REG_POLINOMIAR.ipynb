{
 "cells": [
  {
   "cell_type": "code",
   "execution_count": 31,
   "id": "fd70a7b6",
   "metadata": {},
   "outputs": [],
   "source": [
    "# IMPORTAÇÃO DAS BIBLIOTECAS\n",
    "import plotly.express as px\n",
    "import seaborn as sns\n",
    "import matplotlib.pyplot as plt\n",
    "import pandas as pd\n",
    "import numpy as np"
   ]
  },
  {
   "cell_type": "code",
   "execution_count": 32,
   "id": "071b754b",
   "metadata": {},
   "outputs": [
    {
     "data": {
      "text/html": [
       "<div>\n",
       "<style scoped>\n",
       "    .dataframe tbody tr th:only-of-type {\n",
       "        vertical-align: middle;\n",
       "    }\n",
       "\n",
       "    .dataframe tbody tr th {\n",
       "        vertical-align: top;\n",
       "    }\n",
       "\n",
       "    .dataframe thead th {\n",
       "        text-align: right;\n",
       "    }\n",
       "</style>\n",
       "<table border=\"1\" class=\"dataframe\">\n",
       "  <thead>\n",
       "    <tr style=\"text-align: right;\">\n",
       "      <th></th>\n",
       "      <th>id</th>\n",
       "      <th>date</th>\n",
       "      <th>price</th>\n",
       "      <th>bedrooms</th>\n",
       "      <th>bathrooms</th>\n",
       "      <th>sqft_living</th>\n",
       "      <th>sqft_lot</th>\n",
       "      <th>floors</th>\n",
       "      <th>waterfront</th>\n",
       "      <th>view</th>\n",
       "      <th>...</th>\n",
       "      <th>grade</th>\n",
       "      <th>sqft_above</th>\n",
       "      <th>sqft_basement</th>\n",
       "      <th>yr_built</th>\n",
       "      <th>yr_renovated</th>\n",
       "      <th>zipcode</th>\n",
       "      <th>lat</th>\n",
       "      <th>long</th>\n",
       "      <th>sqft_living15</th>\n",
       "      <th>sqft_lot15</th>\n",
       "    </tr>\n",
       "  </thead>\n",
       "  <tbody>\n",
       "    <tr>\n",
       "      <th>0</th>\n",
       "      <td>7129300520</td>\n",
       "      <td>20141013T000000</td>\n",
       "      <td>221900.0</td>\n",
       "      <td>3</td>\n",
       "      <td>1.00</td>\n",
       "      <td>1180</td>\n",
       "      <td>5650</td>\n",
       "      <td>1.0</td>\n",
       "      <td>0</td>\n",
       "      <td>0</td>\n",
       "      <td>...</td>\n",
       "      <td>7</td>\n",
       "      <td>1180</td>\n",
       "      <td>0</td>\n",
       "      <td>1955</td>\n",
       "      <td>0</td>\n",
       "      <td>98178</td>\n",
       "      <td>47.5112</td>\n",
       "      <td>-122.257</td>\n",
       "      <td>1340</td>\n",
       "      <td>5650</td>\n",
       "    </tr>\n",
       "    <tr>\n",
       "      <th>1</th>\n",
       "      <td>6414100192</td>\n",
       "      <td>20141209T000000</td>\n",
       "      <td>538000.0</td>\n",
       "      <td>3</td>\n",
       "      <td>2.25</td>\n",
       "      <td>2570</td>\n",
       "      <td>7242</td>\n",
       "      <td>2.0</td>\n",
       "      <td>0</td>\n",
       "      <td>0</td>\n",
       "      <td>...</td>\n",
       "      <td>7</td>\n",
       "      <td>2170</td>\n",
       "      <td>400</td>\n",
       "      <td>1951</td>\n",
       "      <td>1991</td>\n",
       "      <td>98125</td>\n",
       "      <td>47.7210</td>\n",
       "      <td>-122.319</td>\n",
       "      <td>1690</td>\n",
       "      <td>7639</td>\n",
       "    </tr>\n",
       "    <tr>\n",
       "      <th>2</th>\n",
       "      <td>5631500400</td>\n",
       "      <td>20150225T000000</td>\n",
       "      <td>180000.0</td>\n",
       "      <td>2</td>\n",
       "      <td>1.00</td>\n",
       "      <td>770</td>\n",
       "      <td>10000</td>\n",
       "      <td>1.0</td>\n",
       "      <td>0</td>\n",
       "      <td>0</td>\n",
       "      <td>...</td>\n",
       "      <td>6</td>\n",
       "      <td>770</td>\n",
       "      <td>0</td>\n",
       "      <td>1933</td>\n",
       "      <td>0</td>\n",
       "      <td>98028</td>\n",
       "      <td>47.7379</td>\n",
       "      <td>-122.233</td>\n",
       "      <td>2720</td>\n",
       "      <td>8062</td>\n",
       "    </tr>\n",
       "    <tr>\n",
       "      <th>3</th>\n",
       "      <td>2487200875</td>\n",
       "      <td>20141209T000000</td>\n",
       "      <td>604000.0</td>\n",
       "      <td>4</td>\n",
       "      <td>3.00</td>\n",
       "      <td>1960</td>\n",
       "      <td>5000</td>\n",
       "      <td>1.0</td>\n",
       "      <td>0</td>\n",
       "      <td>0</td>\n",
       "      <td>...</td>\n",
       "      <td>7</td>\n",
       "      <td>1050</td>\n",
       "      <td>910</td>\n",
       "      <td>1965</td>\n",
       "      <td>0</td>\n",
       "      <td>98136</td>\n",
       "      <td>47.5208</td>\n",
       "      <td>-122.393</td>\n",
       "      <td>1360</td>\n",
       "      <td>5000</td>\n",
       "    </tr>\n",
       "    <tr>\n",
       "      <th>4</th>\n",
       "      <td>1954400510</td>\n",
       "      <td>20150218T000000</td>\n",
       "      <td>510000.0</td>\n",
       "      <td>3</td>\n",
       "      <td>2.00</td>\n",
       "      <td>1680</td>\n",
       "      <td>8080</td>\n",
       "      <td>1.0</td>\n",
       "      <td>0</td>\n",
       "      <td>0</td>\n",
       "      <td>...</td>\n",
       "      <td>8</td>\n",
       "      <td>1680</td>\n",
       "      <td>0</td>\n",
       "      <td>1987</td>\n",
       "      <td>0</td>\n",
       "      <td>98074</td>\n",
       "      <td>47.6168</td>\n",
       "      <td>-122.045</td>\n",
       "      <td>1800</td>\n",
       "      <td>7503</td>\n",
       "    </tr>\n",
       "    <tr>\n",
       "      <th>...</th>\n",
       "      <td>...</td>\n",
       "      <td>...</td>\n",
       "      <td>...</td>\n",
       "      <td>...</td>\n",
       "      <td>...</td>\n",
       "      <td>...</td>\n",
       "      <td>...</td>\n",
       "      <td>...</td>\n",
       "      <td>...</td>\n",
       "      <td>...</td>\n",
       "      <td>...</td>\n",
       "      <td>...</td>\n",
       "      <td>...</td>\n",
       "      <td>...</td>\n",
       "      <td>...</td>\n",
       "      <td>...</td>\n",
       "      <td>...</td>\n",
       "      <td>...</td>\n",
       "      <td>...</td>\n",
       "      <td>...</td>\n",
       "      <td>...</td>\n",
       "    </tr>\n",
       "    <tr>\n",
       "      <th>21608</th>\n",
       "      <td>263000018</td>\n",
       "      <td>20140521T000000</td>\n",
       "      <td>360000.0</td>\n",
       "      <td>3</td>\n",
       "      <td>2.50</td>\n",
       "      <td>1530</td>\n",
       "      <td>1131</td>\n",
       "      <td>3.0</td>\n",
       "      <td>0</td>\n",
       "      <td>0</td>\n",
       "      <td>...</td>\n",
       "      <td>8</td>\n",
       "      <td>1530</td>\n",
       "      <td>0</td>\n",
       "      <td>2009</td>\n",
       "      <td>0</td>\n",
       "      <td>98103</td>\n",
       "      <td>47.6993</td>\n",
       "      <td>-122.346</td>\n",
       "      <td>1530</td>\n",
       "      <td>1509</td>\n",
       "    </tr>\n",
       "    <tr>\n",
       "      <th>21609</th>\n",
       "      <td>6600060120</td>\n",
       "      <td>20150223T000000</td>\n",
       "      <td>400000.0</td>\n",
       "      <td>4</td>\n",
       "      <td>2.50</td>\n",
       "      <td>2310</td>\n",
       "      <td>5813</td>\n",
       "      <td>2.0</td>\n",
       "      <td>0</td>\n",
       "      <td>0</td>\n",
       "      <td>...</td>\n",
       "      <td>8</td>\n",
       "      <td>2310</td>\n",
       "      <td>0</td>\n",
       "      <td>2014</td>\n",
       "      <td>0</td>\n",
       "      <td>98146</td>\n",
       "      <td>47.5107</td>\n",
       "      <td>-122.362</td>\n",
       "      <td>1830</td>\n",
       "      <td>7200</td>\n",
       "    </tr>\n",
       "    <tr>\n",
       "      <th>21610</th>\n",
       "      <td>1523300141</td>\n",
       "      <td>20140623T000000</td>\n",
       "      <td>402101.0</td>\n",
       "      <td>2</td>\n",
       "      <td>0.75</td>\n",
       "      <td>1020</td>\n",
       "      <td>1350</td>\n",
       "      <td>2.0</td>\n",
       "      <td>0</td>\n",
       "      <td>0</td>\n",
       "      <td>...</td>\n",
       "      <td>7</td>\n",
       "      <td>1020</td>\n",
       "      <td>0</td>\n",
       "      <td>2009</td>\n",
       "      <td>0</td>\n",
       "      <td>98144</td>\n",
       "      <td>47.5944</td>\n",
       "      <td>-122.299</td>\n",
       "      <td>1020</td>\n",
       "      <td>2007</td>\n",
       "    </tr>\n",
       "    <tr>\n",
       "      <th>21611</th>\n",
       "      <td>291310100</td>\n",
       "      <td>20150116T000000</td>\n",
       "      <td>400000.0</td>\n",
       "      <td>3</td>\n",
       "      <td>2.50</td>\n",
       "      <td>1600</td>\n",
       "      <td>2388</td>\n",
       "      <td>2.0</td>\n",
       "      <td>0</td>\n",
       "      <td>0</td>\n",
       "      <td>...</td>\n",
       "      <td>8</td>\n",
       "      <td>1600</td>\n",
       "      <td>0</td>\n",
       "      <td>2004</td>\n",
       "      <td>0</td>\n",
       "      <td>98027</td>\n",
       "      <td>47.5345</td>\n",
       "      <td>-122.069</td>\n",
       "      <td>1410</td>\n",
       "      <td>1287</td>\n",
       "    </tr>\n",
       "    <tr>\n",
       "      <th>21612</th>\n",
       "      <td>1523300157</td>\n",
       "      <td>20141015T000000</td>\n",
       "      <td>325000.0</td>\n",
       "      <td>2</td>\n",
       "      <td>0.75</td>\n",
       "      <td>1020</td>\n",
       "      <td>1076</td>\n",
       "      <td>2.0</td>\n",
       "      <td>0</td>\n",
       "      <td>0</td>\n",
       "      <td>...</td>\n",
       "      <td>7</td>\n",
       "      <td>1020</td>\n",
       "      <td>0</td>\n",
       "      <td>2008</td>\n",
       "      <td>0</td>\n",
       "      <td>98144</td>\n",
       "      <td>47.5941</td>\n",
       "      <td>-122.299</td>\n",
       "      <td>1020</td>\n",
       "      <td>1357</td>\n",
       "    </tr>\n",
       "  </tbody>\n",
       "</table>\n",
       "<p>21613 rows × 21 columns</p>\n",
       "</div>"
      ],
      "text/plain": [
       "               id             date     price  bedrooms  bathrooms  \\\n",
       "0      7129300520  20141013T000000  221900.0         3       1.00   \n",
       "1      6414100192  20141209T000000  538000.0         3       2.25   \n",
       "2      5631500400  20150225T000000  180000.0         2       1.00   \n",
       "3      2487200875  20141209T000000  604000.0         4       3.00   \n",
       "4      1954400510  20150218T000000  510000.0         3       2.00   \n",
       "...           ...              ...       ...       ...        ...   \n",
       "21608   263000018  20140521T000000  360000.0         3       2.50   \n",
       "21609  6600060120  20150223T000000  400000.0         4       2.50   \n",
       "21610  1523300141  20140623T000000  402101.0         2       0.75   \n",
       "21611   291310100  20150116T000000  400000.0         3       2.50   \n",
       "21612  1523300157  20141015T000000  325000.0         2       0.75   \n",
       "\n",
       "       sqft_living  sqft_lot  floors  waterfront  view  ...  grade  \\\n",
       "0             1180      5650     1.0           0     0  ...      7   \n",
       "1             2570      7242     2.0           0     0  ...      7   \n",
       "2              770     10000     1.0           0     0  ...      6   \n",
       "3             1960      5000     1.0           0     0  ...      7   \n",
       "4             1680      8080     1.0           0     0  ...      8   \n",
       "...            ...       ...     ...         ...   ...  ...    ...   \n",
       "21608         1530      1131     3.0           0     0  ...      8   \n",
       "21609         2310      5813     2.0           0     0  ...      8   \n",
       "21610         1020      1350     2.0           0     0  ...      7   \n",
       "21611         1600      2388     2.0           0     0  ...      8   \n",
       "21612         1020      1076     2.0           0     0  ...      7   \n",
       "\n",
       "       sqft_above  sqft_basement  yr_built  yr_renovated  zipcode      lat  \\\n",
       "0            1180              0      1955             0    98178  47.5112   \n",
       "1            2170            400      1951          1991    98125  47.7210   \n",
       "2             770              0      1933             0    98028  47.7379   \n",
       "3            1050            910      1965             0    98136  47.5208   \n",
       "4            1680              0      1987             0    98074  47.6168   \n",
       "...           ...            ...       ...           ...      ...      ...   \n",
       "21608        1530              0      2009             0    98103  47.6993   \n",
       "21609        2310              0      2014             0    98146  47.5107   \n",
       "21610        1020              0      2009             0    98144  47.5944   \n",
       "21611        1600              0      2004             0    98027  47.5345   \n",
       "21612        1020              0      2008             0    98144  47.5941   \n",
       "\n",
       "          long  sqft_living15  sqft_lot15  \n",
       "0     -122.257           1340        5650  \n",
       "1     -122.319           1690        7639  \n",
       "2     -122.233           2720        8062  \n",
       "3     -122.393           1360        5000  \n",
       "4     -122.045           1800        7503  \n",
       "...        ...            ...         ...  \n",
       "21608 -122.346           1530        1509  \n",
       "21609 -122.362           1830        7200  \n",
       "21610 -122.299           1020        2007  \n",
       "21611 -122.069           1410        1287  \n",
       "21612 -122.299           1020        1357  \n",
       "\n",
       "[21613 rows x 21 columns]"
      ]
     },
     "execution_count": 32,
     "metadata": {},
     "output_type": "execute_result"
    }
   ],
   "source": [
    "#CARREGADMENTO DE DATASET E ATRIBUIÇÃO A UMA VARIAVEL\n",
    "base_venda_de_casas = pd.read_csv('../Dados/Bases_de_dados/house_prices.csv')\n",
    "base_venda_de_casas"
   ]
  },
  {
   "cell_type": "code",
   "execution_count": 33,
   "id": "d3d98eef",
   "metadata": {},
   "outputs": [
    {
     "data": {
      "text/plain": [
       "array([[ 3.00000e+00,  1.00000e+00,  1.18000e+03, ...,  9.81780e+04,\n",
       "         4.75112e+01, -1.22257e+02],\n",
       "       [ 3.00000e+00,  2.25000e+00,  2.57000e+03, ...,  9.81250e+04,\n",
       "         4.77210e+01, -1.22319e+02],\n",
       "       [ 2.00000e+00,  1.00000e+00,  7.70000e+02, ...,  9.80280e+04,\n",
       "         4.77379e+01, -1.22233e+02],\n",
       "       ...,\n",
       "       [ 2.00000e+00,  7.50000e-01,  1.02000e+03, ...,  9.81440e+04,\n",
       "         4.75944e+01, -1.22299e+02],\n",
       "       [ 3.00000e+00,  2.50000e+00,  1.60000e+03, ...,  9.80270e+04,\n",
       "         4.75345e+01, -1.22069e+02],\n",
       "       [ 2.00000e+00,  7.50000e-01,  1.02000e+03, ...,  9.81440e+04,\n",
       "         4.75941e+01, -1.22299e+02]])"
      ]
     },
     "execution_count": 33,
     "metadata": {},
     "output_type": "execute_result"
    }
   ],
   "source": [
    "X_casas = base_venda_de_casas.iloc[:, 3:19].values\n",
    "X_casas"
   ]
  },
  {
   "cell_type": "code",
   "execution_count": 34,
   "id": "d5d6ea8d",
   "metadata": {},
   "outputs": [
    {
     "data": {
      "text/plain": [
       "array([221900., 538000., 180000., ..., 402101., 400000., 325000.])"
      ]
     },
     "execution_count": 34,
     "metadata": {},
     "output_type": "execute_result"
    }
   ],
   "source": [
    "y_casas = base_venda_de_casas.iloc[:, 2].values\n",
    "y_casas"
   ]
  },
  {
   "cell_type": "code",
   "execution_count": 50,
   "id": "c4bc04ab",
   "metadata": {},
   "outputs": [],
   "source": [
    "from sklearn.model_selection import train_test_split\n",
    "X_casas_treinamento, X_casas_teste, y_casas_treinamento, y_casas_teste = train_test_split(X_casas, y_casas, test_size=0.3, random_state=0)"
   ]
  },
  {
   "cell_type": "code",
   "execution_count": 51,
   "id": "22d3c4a5",
   "metadata": {},
   "outputs": [
    {
     "data": {
      "text/plain": [
       "(15129, 16)"
      ]
     },
     "execution_count": 51,
     "metadata": {},
     "output_type": "execute_result"
    }
   ],
   "source": [
    "X_casas_treinamento.shape"
   ]
  },
  {
   "cell_type": "code",
   "execution_count": 52,
   "id": "32aff1a6",
   "metadata": {},
   "outputs": [
    {
     "data": {
      "text/plain": [
       "(6484, 16)"
      ]
     },
     "execution_count": 52,
     "metadata": {},
     "output_type": "execute_result"
    }
   ],
   "source": [
    "X_casas_teste.shape"
   ]
  },
  {
   "cell_type": "code",
   "execution_count": 67,
   "id": "2d88a7ea",
   "metadata": {},
   "outputs": [],
   "source": [
    "# IMPORTACAO DAS CARACTERISTICAS POLINOMIARES\n",
    "from sklearn.preprocessing import PolynomialFeatures\n",
    "poly = PolynomialFeatures(degree=2)\n",
    "X_casas_treinamento_poly = poly.fit_transform(X_casas_treinamento)\n",
    "X_casas_teste_poly = poly.transform(X_casas_teste)"
   ]
  },
  {
   "cell_type": "code",
   "execution_count": 68,
   "id": "682cad04",
   "metadata": {},
   "outputs": [
    {
     "data": {
      "text/plain": [
       "(15129, 153)"
      ]
     },
     "execution_count": 68,
     "metadata": {},
     "output_type": "execute_result"
    }
   ],
   "source": [
    "X_casas_treinamento_poly.shape # Dados transformados e polinomios"
   ]
  },
  {
   "cell_type": "code",
   "execution_count": 69,
   "id": "0a6b2e13",
   "metadata": {},
   "outputs": [
    {
     "data": {
      "text/plain": [
       "(6484, 153)"
      ]
     },
     "execution_count": 69,
     "metadata": {},
     "output_type": "execute_result"
    }
   ],
   "source": [
    "X_casas_teste_poly.shape # Dados transformados e polinomios"
   ]
  },
  {
   "cell_type": "code",
   "execution_count": 70,
   "id": "25204020",
   "metadata": {},
   "outputs": [
    {
     "data": {
      "text/plain": [
       "LinearRegression()"
      ]
     },
     "execution_count": 70,
     "metadata": {},
     "output_type": "execute_result"
    }
   ],
   "source": [
    "from sklearn.linear_model import LinearRegression\n",
    "regressor_casas_polinomio = LinearRegression()\n",
    "regressor_casas_polinomio.fit(X_casas_treinamento_poly, y_casas_treinamento)"
   ]
  },
  {
   "cell_type": "code",
   "execution_count": 71,
   "id": "6ec5a6fd",
   "metadata": {},
   "outputs": [
    {
     "data": {
      "text/plain": [
       "0.8179393211228992"
      ]
     },
     "execution_count": 71,
     "metadata": {},
     "output_type": "execute_result"
    }
   ],
   "source": [
    "regressor_casas_polinomio.score(X_casas_treinamento_poly, y_casas_treinamento)"
   ]
  },
  {
   "cell_type": "code",
   "execution_count": 72,
   "id": "3b21b44f",
   "metadata": {},
   "outputs": [
    {
     "data": {
      "text/plain": [
       "0.8153400098995593"
      ]
     },
     "execution_count": 72,
     "metadata": {},
     "output_type": "execute_result"
    }
   ],
   "source": [
    "regressor_casas_polinomio.score(X_casas_teste_poly, y_casas_teste)"
   ]
  },
  {
   "cell_type": "code",
   "execution_count": 73,
   "id": "e33c2167",
   "metadata": {},
   "outputs": [
    {
     "data": {
      "text/plain": [
       "35620070194.17125"
      ]
     },
     "execution_count": 73,
     "metadata": {},
     "output_type": "execute_result"
    }
   ],
   "source": [
    "# b0\n",
    "regressor_X_casas_polinomio.intercept_"
   ]
  },
  {
   "cell_type": "code",
   "execution_count": 74,
   "id": "5adbd2e6",
   "metadata": {},
   "outputs": [
    {
     "data": {
      "text/plain": [
       "array([-1.65643932e+03,  9.95674187e+06, -1.57775215e+07,  4.18260152e+04,\n",
       "       -3.67796587e+01, -1.61007366e+07,  9.81414587e+07,  4.19320099e+06,\n",
       "        4.84796619e+06, -2.62653099e+07, -2.95312923e+01, -3.92429178e+04,\n",
       "       -4.00398054e+05,  4.20094348e+04, -8.36038672e+05,  3.93039139e+07,\n",
       "       -8.03943060e+07,  7.98380434e+02, -7.96445635e+03, -2.73211412e+00,\n",
       "        1.17263147e-02,  1.69128117e+04,  1.56112446e+04,  2.95293886e+03,\n",
       "       -7.39071314e+03, -7.62797355e+02, -7.67923434e+00,  2.03776669e+00,\n",
       "       -6.74812942e+01, -9.96648528e+00, -1.74496111e+01, -2.93096750e+04,\n",
       "        5.47310445e+04, -3.70109465e+03,  1.21430837e+01, -2.70588849e-01,\n",
       "       -3.47710615e+04, -1.67332008e+04,  3.84066432e+03, -6.23462512e+03,\n",
       "        1.36765802e+04,  2.13536695e+01, -9.13139878e+00,  3.01928807e+02,\n",
       "       -1.48263550e+01,  3.53172820e+01,  4.70271665e+04, -7.73716068e+04,\n",
       "       -5.41553235e+01,  3.76614282e+03, -3.64884034e+00,  9.91289667e+01,\n",
       "       -2.86646827e+00,  2.15333163e+01,  2.81029344e+01, -4.73497331e+01,\n",
       "        3.07182999e+01,  8.05781616e+01,  3.16625997e+01,  2.36417285e+03,\n",
       "        1.20059449e+02, -1.45286596e+02, -2.40746886e-07,  2.82656174e-02,\n",
       "        3.50367191e-01, -1.27991831e-02, -1.52483846e-01,  1.16989102e-01,\n",
       "       -3.76614298e+03, -3.76614307e+03,  7.02546560e-03, -1.54260546e-04,\n",
       "        2.16057152e-03, -1.57945903e+00,  9.24500963e-01,  3.93396822e+04,\n",
       "       -2.38845359e+05, -1.22005746e+03,  1.83857929e+04,  4.83139724e+03,\n",
       "       -1.80057407e+01,  1.32559858e+01, -2.68770712e+02, -8.80679011e+00,\n",
       "        4.83109516e+02, -9.44915579e+04,  2.16431497e+05,  9.81555535e+07,\n",
       "        1.94941168e+04, -5.01384884e+03, -3.31417420e+04,  1.40624231e+02,\n",
       "       -4.14862461e+01,  1.51985135e+03, -3.42653753e+01, -9.13975956e+02,\n",
       "        1.11559241e+06,  1.32544001e+06,  5.37280912e+03,  1.00055489e+04,\n",
       "        3.92486151e+03, -4.54307579e+00,  2.03399092e+00, -1.17010521e+02,\n",
       "       -1.05380263e+00, -7.88918313e+01, -1.44957710e+04, -3.61710276e+04,\n",
       "       -5.72421828e+03,  2.63630486e+03,  9.23566343e+00,  1.31101876e+01,\n",
       "       -6.84174832e+01, -1.35575452e+01,  4.79495454e+00, -1.29622534e+04,\n",
       "        3.73047860e+04, -1.87505177e+03,  1.31418374e+01,  1.61480549e+01,\n",
       "       -4.92501321e+02,  6.38930355e+00,  4.23665140e+01,  1.31288176e+05,\n",
       "       -1.37615221e+05,  1.01492778e+02,  1.24950621e+02, -8.08256074e+01,\n",
       "       -3.16394788e+01, -2.36510642e+03,  1.56277296e+02, -1.56449518e+02,\n",
       "        2.33618040e+01, -8.13023672e+01, -3.16075522e+01, -2.36442720e+03,\n",
       "        5.02198601e+01,  1.95090550e+01,  2.73444066e+01,  5.18141287e-01,\n",
       "        1.30535592e+01, -4.45783668e+03,  6.31371043e+03,  7.53132664e-01,\n",
       "       -4.54022564e-01, -6.20028419e+01, -2.46214910e+01,  5.48583961e+00,\n",
       "        1.75453897e+02,  2.24516940e+03, -2.78931298e+06, -1.77436469e+06,\n",
       "        2.74517328e+05])"
      ]
     },
     "execution_count": 74,
     "metadata": {},
     "output_type": "execute_result"
    }
   ],
   "source": [
    "# b1 ...n\n",
    "regressor_X_casas_polinomio.coef_"
   ]
  },
  {
   "cell_type": "code",
   "execution_count": 76,
   "id": "978ac8d4",
   "metadata": {},
   "outputs": [
    {
     "data": {
      "text/plain": [
       "array([ 386511.55485535, 1990814.4158783 ,  578824.15898132, ...,\n",
       "        433146.82847595,  234282.00984192,  123653.67539978])"
      ]
     },
     "execution_count": 76,
     "metadata": {},
     "output_type": "execute_result"
    }
   ],
   "source": [
    "previsao = regressor_casas_polinomio.predict(X_casas_teste_poly)\n",
    "previsao # Dados previstos"
   ]
  },
  {
   "cell_type": "code",
   "execution_count": 78,
   "id": "684850c9",
   "metadata": {},
   "outputs": [
    {
     "data": {
      "text/plain": [
       "array([ 297000., 1578000.,  562100., ...,  380000.,  268000.,  206000.])"
      ]
     },
     "execution_count": 78,
     "metadata": {},
     "output_type": "execute_result"
    }
   ],
   "source": [
    "y_casas_teste # Dados reais"
   ]
  },
  {
   "cell_type": "code",
   "execution_count": 80,
   "id": "ff555f19",
   "metadata": {},
   "outputs": [
    {
     "data": {
      "text/plain": [
       "101223.19287563326"
      ]
     },
     "execution_count": 80,
     "metadata": {},
     "output_type": "execute_result"
    }
   ],
   "source": [
    "# analise do erro absoluto\n",
    "from sklearn.metrics import mean_absolute_error\n",
    "mean_absolute_error(y_casas_teste, previsao)"
   ]
  },
  {
   "cell_type": "code",
   "execution_count": null,
   "id": "cf809555",
   "metadata": {},
   "outputs": [],
   "source": []
  },
  {
   "cell_type": "code",
   "execution_count": null,
   "id": "82357655",
   "metadata": {},
   "outputs": [],
   "source": []
  }
 ],
 "metadata": {
  "kernelspec": {
   "display_name": "Python 3 (ipykernel)",
   "language": "python",
   "name": "python3"
  },
  "language_info": {
   "codemirror_mode": {
    "name": "ipython",
    "version": 3
   },
   "file_extension": ".py",
   "mimetype": "text/x-python",
   "name": "python",
   "nbconvert_exporter": "python",
   "pygments_lexer": "ipython3",
   "version": "3.9.12"
  }
 },
 "nbformat": 4,
 "nbformat_minor": 5
}
