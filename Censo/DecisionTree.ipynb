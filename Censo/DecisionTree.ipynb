{
 "cells": [
  {
   "cell_type": "markdown",
   "id": "d4677fe8",
   "metadata": {},
   "source": [
    "# Analise de censo dos trabalhadores com arvore de decisao"
   ]
  },
  {
   "cell_type": "code",
   "execution_count": 4,
   "id": "9efb6c21",
   "metadata": {},
   "outputs": [],
   "source": [
    "import pickle # importacao da biblioteca para o carregamento guardado\n",
    "with open('Censo.pkl', 'rb') as f:\n",
    "    X_censo_treinamento, y_censo_treinamento, X_censo_teste, y_censo_teste = pickle.load(f)"
   ]
  },
  {
   "cell_type": "code",
   "execution_count": 5,
   "id": "1c02276e",
   "metadata": {},
   "outputs": [
    {
     "data": {
      "text/plain": [
       "((27676, 108), (27676,))"
      ]
     },
     "execution_count": 5,
     "metadata": {},
     "output_type": "execute_result"
    }
   ],
   "source": [
    "X_censo_treinamento.shape, y_censo_treinamento.shape # visualizacao dos tamanhos de dados de treinamento"
   ]
  },
  {
   "cell_type": "code",
   "execution_count": 6,
   "id": "29801d59",
   "metadata": {},
   "outputs": [
    {
     "data": {
      "text/plain": [
       "((4885, 108), (4885,))"
      ]
     },
     "execution_count": 6,
     "metadata": {},
     "output_type": "execute_result"
    }
   ],
   "source": [
    "X_censo_teste.shape, y_censo_teste.shape #visualizacao dos tamanhos de dados de teste"
   ]
  },
  {
   "cell_type": "code",
   "execution_count": 7,
   "id": "a58bea8d",
   "metadata": {},
   "outputs": [
    {
     "data": {
      "text/plain": [
       "DecisionTreeClassifier(criterion='entropy', random_state=0)"
      ]
     },
     "execution_count": 7,
     "metadata": {},
     "output_type": "execute_result"
    }
   ],
   "source": [
    "from sklearn.tree import DecisionTreeClassifier #Importacao da biblioteca para arvore de decisao\n",
    "\n",
    "arvore_censo = DecisionTreeClassifier(criterion='entropy', random_state=0)\n",
    "arvore_censo.fit(X_censo_treinamento, y_censo_treinamento)\n",
    "arvore_censo"
   ]
  },
  {
   "cell_type": "code",
   "execution_count": 8,
   "id": "49527144",
   "metadata": {},
   "outputs": [
    {
     "data": {
      "text/plain": [
       "array([' <=50K', ' <=50K', ' <=50K', ..., ' <=50K', ' <=50K', ' >50K'],\n",
       "      dtype=object)"
      ]
     },
     "execution_count": 8,
     "metadata": {},
     "output_type": "execute_result"
    }
   ],
   "source": [
    "previsao = arvore_censo.predict(X_censo_teste)\n",
    "previsao"
   ]
  },
  {
   "cell_type": "code",
   "execution_count": 9,
   "id": "8df26552",
   "metadata": {},
   "outputs": [
    {
     "data": {
      "text/plain": [
       "array([' <=50K', ' <=50K', ' <=50K', ..., ' <=50K', ' <=50K', ' <=50K'],\n",
       "      dtype=object)"
      ]
     },
     "execution_count": 9,
     "metadata": {},
     "output_type": "execute_result"
    }
   ],
   "source": [
    "y_censo_teste"
   ]
  },
  {
   "cell_type": "code",
   "execution_count": 10,
   "id": "55784400",
   "metadata": {},
   "outputs": [
    {
     "data": {
      "text/plain": [
       "0.8104401228249745"
      ]
     },
     "execution_count": 10,
     "metadata": {},
     "output_type": "execute_result"
    }
   ],
   "source": [
    "from sklearn.metrics import accuracy_score, classification_report\n",
    "accuracy_score(y_censo_teste,previsao)"
   ]
  },
  {
   "cell_type": "code",
   "execution_count": 12,
   "id": "6af13677",
   "metadata": {},
   "outputs": [
    {
     "data": {
      "text/plain": [
       "0.8104401228249745"
      ]
     },
     "execution_count": 12,
     "metadata": {},
     "output_type": "execute_result"
    },
    {
     "data": {
      "image/png": "[encoded data removed]",
      "text/plain": [
       "<Figure size 576x396 with 1 Axes>"
      ]
     },
     "metadata": {},
     "output_type": "display_data"
    }
   ],
   "source": [
    "from yellowbrick.classifier import ConfusionMatrix\n",
    "cm = ConfusionMatrix(arvore_censo)\n",
    "cm.fit(X_censo_treinamento, y_censo_treinamento)\n",
    "cm.score(X_censo_teste, y_censo_teste)"
   ]
  },
  {
   "cell_type": "code",
   "execution_count": 13,
   "id": "f3457ca6",
   "metadata": {},
   "outputs": [
    {
     "name": "stdout",
     "output_type": "stream",
     "text": [
      "              precision    recall  f1-score   support\n",
      "\n",
      "       <=50K       0.88      0.87      0.87      3693\n",
      "        >50K       0.61      0.61      0.61      1192\n",
      "\n",
      "    accuracy                           0.81      4885\n",
      "   macro avg       0.74      0.74      0.74      4885\n",
      "weighted avg       0.81      0.81      0.81      4885\n",
      "\n"
     ]
    }
   ],
   "source": [
    "print(classification_report(y_censo_teste, previsao));"
   ]
  },
  {
   "cell_type": "code",
   "execution_count": 67,
   "id": "86616ab9",
   "metadata": {},
   "outputs": [
    {
     "data": {
      "text/plain": [
       "array([' <=50K', ' >50K'], dtype=object)"
      ]
     },
     "execution_count": 67,
     "metadata": {},
     "output_type": "execute_result"
    }
   ],
   "source": [
    "arvore_censo.classes_"
   ]
  }
 ],
 "metadata": {
  "kernelspec": {
   "display_name": "Python 3 (ipykernel)",
   "language": "python",
   "name": "python3"
  },
  "language_info": {
   "codemirror_mode": {
    "name": "ipython",
    "version": 3
   },
   "file_extension": ".py",
   "mimetype": "text/x-python",
   "name": "python",
   "nbconvert_exporter": "python",
   "pygments_lexer": "ipython3",
   "version": "3.9.12"
  }
 },
 "nbformat": 4,
 "nbformat_minor": 5
}
