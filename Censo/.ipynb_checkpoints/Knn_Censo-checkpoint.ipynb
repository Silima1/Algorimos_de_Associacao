{
 "cells": [
  {
   "cell_type": "markdown",
   "id": "bd4aed95",
   "metadata": {},
   "source": [
    "# Analise de censo de trabalhadores governamentais e privados"
   ]
  },
  {
   "cell_type": "code",
   "execution_count": 8,
   "id": "280fbcfd",
   "metadata": {},
   "outputs": [],
   "source": [
    "from sklearn.neighbors import KNeighborsClassifier\n",
    "import pickle"
   ]
  },
  {
   "cell_type": "code",
   "execution_count": 9,
   "id": "98be6c56",
   "metadata": {},
   "outputs": [],
   "source": [
    "with open('Censo.pkl', 'rb') as f:\n",
    "    X_censo_treinamento, y_censo_treinamento, X_censo_teste, y_censo_teste = pickle.load(f)"
   ]
  },
  {
   "cell_type": "code",
   "execution_count": 10,
   "id": "d9e76309",
   "metadata": {},
   "outputs": [
    {
     "data": {
      "text/plain": [
       "((27676, 108), (27676,))"
      ]
     },
     "execution_count": 10,
     "metadata": {},
     "output_type": "execute_result"
    }
   ],
   "source": [
    "X_censo_treinamento.shape, y_censo_treinamento.shape"
   ]
  },
  {
   "cell_type": "code",
   "execution_count": 11,
   "id": "41febe97",
   "metadata": {},
   "outputs": [
    {
     "data": {
      "text/plain": [
       "((4885, 108), (4885,))"
      ]
     },
     "execution_count": 11,
     "metadata": {},
     "output_type": "execute_result"
    }
   ],
   "source": [
    "X_censo_teste.shape, y_censo_teste.shape"
   ]
  },
  {
   "cell_type": "code",
   "execution_count": 81,
   "id": "a7923dc6",
   "metadata": {},
   "outputs": [
    {
     "data": {
      "text/plain": [
       "KNeighborsClassifier(n_neighbors=150)"
      ]
     },
     "execution_count": 81,
     "metadata": {},
     "output_type": "execute_result"
    }
   ],
   "source": [
    "KNN_Censo =  KNeighborsClassifier(n_neighbors=150, metric='minkowski', p=2) #Definicao das metricas\n",
    "KNN_Censo.fit(X_censo_treinamento, y_censo_treinamento)"
   ]
  },
  {
   "cell_type": "code",
   "execution_count": 82,
   "id": "cc32c3fe",
   "metadata": {},
   "outputs": [
    {
     "data": {
      "text/plain": [
       "array([' <=50K', ' <=50K', ' <=50K', ..., ' <=50K', ' <=50K', ' >50K'],\n",
       "      dtype=object)"
      ]
     },
     "execution_count": 82,
     "metadata": {},
     "output_type": "execute_result"
    }
   ],
   "source": [
    "previsao = KNN_Censo.predict(X_censo_teste)\n",
    "previsao"
   ]
  },
  {
   "cell_type": "code",
   "execution_count": 83,
   "id": "d567b8be",
   "metadata": {},
   "outputs": [
    {
     "data": {
      "text/plain": [
       "array([' <=50K', ' <=50K', ' <=50K', ..., ' <=50K', ' <=50K', ' <=50K'],\n",
       "      dtype=object)"
      ]
     },
     "execution_count": 83,
     "metadata": {},
     "output_type": "execute_result"
    }
   ],
   "source": [
    "y_censo_teste"
   ]
  },
  {
   "cell_type": "code",
   "execution_count": 84,
   "id": "8274b7fc",
   "metadata": {},
   "outputs": [
    {
     "data": {
      "text/plain": [
       "0.8311156601842374"
      ]
     },
     "execution_count": 84,
     "metadata": {},
     "output_type": "execute_result"
    }
   ],
   "source": [
    "from sklearn.metrics import accuracy_score, classification_report\n",
    "accuracy_score(y_censo_teste, previsao)"
   ]
  },
  {
   "cell_type": "code",
   "execution_count": 85,
   "id": "5f52cc22",
   "metadata": {},
   "outputs": [
    {
     "name": "stdout",
     "output_type": "stream",
     "text": [
      "              precision    recall  f1-score   support\n",
      "\n",
      "       <=50K       0.86      0.92      0.89      3693\n",
      "        >50K       0.70      0.55      0.61      1192\n",
      "\n",
      "    accuracy                           0.83      4885\n",
      "   macro avg       0.78      0.73      0.75      4885\n",
      "weighted avg       0.82      0.83      0.82      4885\n",
      "\n"
     ]
    }
   ],
   "source": [
    "print(classification_report(y_censo_teste, previsao))"
   ]
  },
  {
   "cell_type": "code",
   "execution_count": 86,
   "id": "640c363c",
   "metadata": {},
   "outputs": [
    {
     "data": {
      "text/plain": [
       "0.8311156601842374"
      ]
     },
     "execution_count": 86,
     "metadata": {},
     "output_type": "execute_result"
    },
    {
     "data": {
      "image/png": "[encoded data removed]",
      "text/plain": [
       "<Figure size 576x396 with 1 Axes>"
      ]
     },
     "metadata": {},
     "output_type": "display_data"
    }
   ],
   "source": [
    "from yellowbrick.classifier import ConfusionMatrix\n",
    "cm = ConfusionMatrix(KNN_Censo)\n",
    "cm.fit(X_censo_treinamento, y_censo_treinamento)\n",
    "cm.score(X_censo_teste, y_censo_teste)"
   ]
  },
  {
   "cell_type": "code",
   "execution_count": null,
   "id": "c86c5f5c",
   "metadata": {},
   "outputs": [],
   "source": []
  },
  {
   "cell_type": "code",
   "execution_count": null,
   "id": "2146d0d8",
   "metadata": {},
   "outputs": [],
   "source": []
  },
  {
   "cell_type": "code",
   "execution_count": null,
   "id": "9000b20a",
   "metadata": {},
   "outputs": [],
   "source": []
  }
 ],
 "metadata": {
  "kernelspec": {
   "display_name": "Python 3 (ipykernel)",
   "language": "python",
   "name": "python3"
  },
  "language_info": {
   "codemirror_mode": {
    "name": "ipython",
    "version": 3
   },
   "file_extension": ".py",
   "mimetype": "text/x-python",
   "name": "python",
   "nbconvert_exporter": "python",
   "pygments_lexer": "ipython3",
   "version": "3.9.12"
  }
 },
 "nbformat": 4,
 "nbformat_minor": 5
}
