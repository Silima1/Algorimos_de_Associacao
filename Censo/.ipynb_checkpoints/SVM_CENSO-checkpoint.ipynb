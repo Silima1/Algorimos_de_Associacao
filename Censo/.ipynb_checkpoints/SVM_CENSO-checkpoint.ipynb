{
 "cells": [
  {
   "cell_type": "markdown",
   "id": "f3fdb2a2",
   "metadata": {},
   "source": [
    "# Analise de dados do censo de trabalhadores com SVM"
   ]
  },
  {
   "cell_type": "code",
   "execution_count": 1,
   "id": "b211adfd",
   "metadata": {},
   "outputs": [],
   "source": [
    "from sklearn.svm import SVC\n",
    "import pickle"
   ]
  },
  {
   "cell_type": "code",
   "execution_count": 3,
   "id": "24b4ec98",
   "metadata": {},
   "outputs": [],
   "source": [
    "with open('Censo.pkl', 'rb') as f:\n",
    "    X_censo_treinamento, y_censo_treinamento, X_censo_teste, y_censo_teste = pickle.load(f)"
   ]
  },
  {
   "cell_type": "code",
   "execution_count": null,
   "id": "edb2e725",
   "metadata": {},
   "outputs": [],
   "source": [
    " X_censo_treinamento.shape, y_censo_treinamento.shape"
   ]
  },
  {
   "cell_type": "code",
   "execution_count": 4,
   "id": "2f1f789e",
   "metadata": {},
   "outputs": [
    {
     "data": {
      "text/plain": [
       "((4885, 108), (4885,))"
      ]
     },
     "execution_count": 4,
     "metadata": {},
     "output_type": "execute_result"
    }
   ],
   "source": [
    "X_censo_teste.shape, y_censo_teste.shape"
   ]
  },
  {
   "cell_type": "code",
   "execution_count": 41,
   "id": "cec30dca",
   "metadata": {},
   "outputs": [
    {
     "data": {
      "text/plain": [
       "SVC(random_state=1)"
      ]
     },
     "execution_count": 41,
     "metadata": {},
     "output_type": "execute_result"
    }
   ],
   "source": [
    "SVM_Censo = SVC(kernel='rbf', random_state=1)\n",
    "SVM_Censo.fit(X_censo_treinamento, y_censo_treinamento)"
   ]
  },
  {
   "cell_type": "code",
   "execution_count": 42,
   "id": "900888b3",
   "metadata": {},
   "outputs": [
    {
     "data": {
      "text/plain": [
       "array([' <=50K', ' <=50K', ' <=50K', ..., ' <=50K', ' <=50K', ' >50K'],\n",
       "      dtype=object)"
      ]
     },
     "execution_count": 42,
     "metadata": {},
     "output_type": "execute_result"
    }
   ],
   "source": [
    "previsao = SVM_Censo.predict(X_censo_teste)\n",
    "previsao"
   ]
  },
  {
   "cell_type": "code",
   "execution_count": 43,
   "id": "47f79c0b",
   "metadata": {},
   "outputs": [
    {
     "data": {
      "text/plain": [
       "array([' <=50K', ' <=50K', ' <=50K', ..., ' <=50K', ' <=50K', ' <=50K'],\n",
       "      dtype=object)"
      ]
     },
     "execution_count": 43,
     "metadata": {},
     "output_type": "execute_result"
    }
   ],
   "source": [
    "y_censo_teste"
   ]
  },
  {
   "cell_type": "code",
   "execution_count": 44,
   "id": "8314d6b3",
   "metadata": {},
   "outputs": [
    {
     "data": {
      "text/plain": [
       "0.8493346980552713"
      ]
     },
     "execution_count": 44,
     "metadata": {},
     "output_type": "execute_result"
    }
   ],
   "source": [
    "from sklearn.metrics import accuracy_score, classification_report\n",
    "SVM_Censo.score(X_censo_teste, y_censo_teste)"
   ]
  },
  {
   "cell_type": "code",
   "execution_count": 45,
   "id": "98af73d1",
   "metadata": {},
   "outputs": [],
   "source": [
    "from yellowbrick.classifier import ConfusionMatrix"
   ]
  },
  {
   "cell_type": "code",
   "execution_count": 46,
   "id": "c547a4d1",
   "metadata": {},
   "outputs": [
    {
     "data": {
      "text/plain": [
       "0.8493346980552713"
      ]
     },
     "execution_count": 46,
     "metadata": {},
     "output_type": "execute_result"
    },
    {
     "data": {
      "image/png": "[encoded data removed]",
      "text/plain": [
       "<Figure size 576x396 with 1 Axes>"
      ]
     },
     "metadata": {},
     "output_type": "display_data"
    }
   ],
   "source": [
    "cm = ConfusionMatrix(SVM_Censo) # Cria da variavel para matriz de confusao\n",
    "cm.fit(X_censo_treinamento, y_censo_treinamento)\n",
    "cm.score(X_censo_teste, y_censo_teste)"
   ]
  },
  {
   "cell_type": "code",
   "execution_count": 47,
   "id": "ac090efc",
   "metadata": {},
   "outputs": [
    {
     "name": "stdout",
     "output_type": "stream",
     "text": [
      "              precision    recall  f1-score   support\n",
      "\n",
      "       <=50K       0.87      0.94      0.90      3693\n",
      "        >50K       0.75      0.57      0.65      1192\n",
      "\n",
      "    accuracy                           0.85      4885\n",
      "   macro avg       0.81      0.75      0.78      4885\n",
      "weighted avg       0.84      0.85      0.84      4885\n",
      "\n"
     ]
    }
   ],
   "source": [
    "print(classification_report(y_censo_teste, previsao))"
   ]
  },
  {
   "cell_type": "code",
   "execution_count": null,
   "id": "0ae63adf",
   "metadata": {},
   "outputs": [],
   "source": []
  }
 ],
 "metadata": {
  "kernelspec": {
   "display_name": "Python 3 (ipykernel)",
   "language": "python",
   "name": "python3"
  },
  "language_info": {
   "codemirror_mode": {
    "name": "ipython",
    "version": 3
   },
   "file_extension": ".py",
   "mimetype": "text/x-python",
   "name": "python",
   "nbconvert_exporter": "python",
   "pygments_lexer": "ipython3",
   "version": "3.9.12"
  }
 },
 "nbformat": 4,
 "nbformat_minor": 5
}
