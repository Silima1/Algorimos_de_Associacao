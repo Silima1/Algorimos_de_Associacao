{
 "cells": [
  {
   "cell_type": "markdown",
   "id": "b16f136a",
   "metadata": {},
   "source": [
    "# Analise de censo com rede neural"
   ]
  },
  {
   "cell_type": "code",
   "execution_count": 1,
   "id": "3af2794e",
   "metadata": {},
   "outputs": [],
   "source": [
    "from sklearn.neural_network import MLPClassifier\n",
    "import pickle"
   ]
  },
  {
   "cell_type": "code",
   "execution_count": 2,
   "id": "a32e9711",
   "metadata": {},
   "outputs": [],
   "source": [
    "with open('Censo.pkl', 'rb') as f:\n",
    "    X_Censo_treinamento, y_censo_treinamento, X_censo_teste, y_censo_teste = pickle.load(f)"
   ]
  },
  {
   "cell_type": "code",
   "execution_count": 3,
   "id": "1ee826ea",
   "metadata": {},
   "outputs": [
    {
     "data": {
      "text/plain": [
       "((27676, 108), (27676,))"
      ]
     },
     "execution_count": 3,
     "metadata": {},
     "output_type": "execute_result"
    }
   ],
   "source": [
    " X_Censo_treinamento.shape, y_censo_treinamento.shape"
   ]
  },
  {
   "cell_type": "code",
   "execution_count": 4,
   "id": "83f46e53",
   "metadata": {},
   "outputs": [
    {
     "data": {
      "text/plain": [
       "((4885, 108), (4885,))"
      ]
     },
     "execution_count": 4,
     "metadata": {},
     "output_type": "execute_result"
    }
   ],
   "source": [
    " X_censo_teste.shape, y_censo_teste.shape"
   ]
  },
  {
   "cell_type": "code",
   "execution_count": 42,
   "id": "382e94b8",
   "metadata": {},
   "outputs": [
    {
     "name": "stdout",
     "output_type": "stream",
     "text": [
      "Iteration 1, loss = 0.53492521\n",
      "Iteration 2, loss = 0.48143575\n",
      "Iteration 3, loss = 0.45041855\n",
      "Iteration 4, loss = 0.43049934\n",
      "Iteration 5, loss = 0.41493396\n",
      "Iteration 6, loss = 0.40224727\n",
      "Iteration 7, loss = 0.39173888\n",
      "Iteration 8, loss = 0.38250595\n",
      "Iteration 9, loss = 0.37457654\n",
      "Iteration 10, loss = 0.36786525\n",
      "Iteration 11, loss = 0.36201276\n",
      "Iteration 12, loss = 0.35686412\n",
      "Iteration 13, loss = 0.35249569\n",
      "Iteration 14, loss = 0.34879772\n",
      "Iteration 15, loss = 0.34568205\n",
      "Iteration 16, loss = 0.34312291\n",
      "Iteration 17, loss = 0.34055319\n",
      "Iteration 18, loss = 0.33838242\n",
      "Iteration 19, loss = 0.33653622\n",
      "Iteration 20, loss = 0.33502505\n",
      "Iteration 21, loss = 0.33350894\n",
      "Iteration 22, loss = 0.33231234\n",
      "Iteration 23, loss = 0.33132606\n",
      "Iteration 24, loss = 0.33049931\n",
      "Iteration 25, loss = 0.32969805\n",
      "Iteration 26, loss = 0.32910130\n",
      "Iteration 27, loss = 0.32850778\n",
      "Iteration 28, loss = 0.32807658\n",
      "Iteration 29, loss = 0.32765917\n",
      "Iteration 30, loss = 0.32730833\n",
      "Iteration 31, loss = 0.32697090\n",
      "Iteration 32, loss = 0.32671151\n",
      "Iteration 33, loss = 0.32625077\n",
      "Iteration 34, loss = 0.32594752\n",
      "Iteration 35, loss = 0.32582245\n",
      "Iteration 36, loss = 0.32572352\n",
      "Iteration 37, loss = 0.32558811\n",
      "Iteration 38, loss = 0.32524842\n",
      "Iteration 39, loss = 0.32516455\n",
      "Iteration 40, loss = 0.32514006\n",
      "Iteration 41, loss = 0.32484650\n",
      "Iteration 42, loss = 0.32482757\n",
      "Iteration 43, loss = 0.32454830\n",
      "Iteration 44, loss = 0.32447669\n",
      "Iteration 45, loss = 0.32443784\n",
      "Iteration 46, loss = 0.32439672\n",
      "Iteration 47, loss = 0.32412129\n",
      "Iteration 48, loss = 0.32402297\n",
      "Iteration 49, loss = 0.32400001\n",
      "Iteration 50, loss = 0.32388658\n",
      "Iteration 51, loss = 0.32370640\n",
      "Iteration 52, loss = 0.32392060\n",
      "Iteration 53, loss = 0.32368885\n",
      "Iteration 54, loss = 0.32375284\n",
      "Iteration 55, loss = 0.32358788\n",
      "Iteration 56, loss = 0.32353931\n",
      "Iteration 57, loss = 0.32349536\n",
      "Iteration 58, loss = 0.32351265\n",
      "Iteration 59, loss = 0.32349028\n",
      "Iteration 60, loss = 0.32339109\n",
      "Iteration 61, loss = 0.32344100\n",
      "Iteration 62, loss = 0.32326204\n",
      "Iteration 63, loss = 0.32334423\n",
      "Iteration 64, loss = 0.32328556\n",
      "Iteration 65, loss = 0.32316307\n",
      "Iteration 66, loss = 0.32312467\n",
      "Iteration 67, loss = 0.32303930\n",
      "Iteration 68, loss = 0.32297490\n",
      "Iteration 69, loss = 0.32319928\n",
      "Iteration 70, loss = 0.32296433\n",
      "Iteration 71, loss = 0.32313760\n",
      "Iteration 72, loss = 0.32293389\n",
      "Iteration 73, loss = 0.32291774\n",
      "Iteration 74, loss = 0.32296689\n",
      "Iteration 75, loss = 0.32311924\n",
      "Iteration 76, loss = 0.32302417\n",
      "Iteration 77, loss = 0.32295266\n",
      "Iteration 78, loss = 0.32302999\n",
      "Iteration 79, loss = 0.32292776\n",
      "Iteration 80, loss = 0.32286222\n",
      "Iteration 81, loss = 0.32285437\n",
      "Iteration 82, loss = 0.32294630\n",
      "Iteration 83, loss = 0.32293978\n",
      "Iteration 84, loss = 0.32285174\n",
      "Iteration 85, loss = 0.32291041\n",
      "Iteration 86, loss = 0.32282105\n",
      "Iteration 87, loss = 0.32287304\n",
      "Iteration 88, loss = 0.32287553\n",
      "Iteration 89, loss = 0.32292652\n",
      "Iteration 90, loss = 0.32278094\n",
      "Iteration 91, loss = 0.32276303\n",
      "Iteration 92, loss = 0.32266515\n",
      "Iteration 93, loss = 0.32285995\n",
      "Iteration 94, loss = 0.32272569\n",
      "Iteration 95, loss = 0.32274221\n",
      "Iteration 96, loss = 0.32268820\n",
      "Iteration 97, loss = 0.32262643\n",
      "Iteration 98, loss = 0.32282171\n",
      "Iteration 99, loss = 0.32264554\n",
      "Iteration 100, loss = 0.32252275\n",
      "Iteration 101, loss = 0.32250324\n",
      "Iteration 102, loss = 0.32267300\n",
      "Iteration 103, loss = 0.32251945\n",
      "Iteration 104, loss = 0.32242720\n",
      "Iteration 105, loss = 0.32239551\n",
      "Iteration 106, loss = 0.32241205\n",
      "Iteration 107, loss = 0.32243759\n",
      "Iteration 108, loss = 0.32233735\n",
      "Iteration 109, loss = 0.32253263\n",
      "Iteration 110, loss = 0.32235586\n",
      "Iteration 111, loss = 0.32230443\n",
      "Iteration 112, loss = 0.32236823\n",
      "Iteration 113, loss = 0.32224704\n",
      "Iteration 114, loss = 0.32229126\n",
      "Iteration 115, loss = 0.32225138\n",
      "Iteration 116, loss = 0.32234770\n",
      "Iteration 117, loss = 0.32241804\n",
      "Iteration 118, loss = 0.32230130\n",
      "Iteration 119, loss = 0.32225882\n",
      "Iteration 120, loss = 0.32235963\n",
      "Iteration 121, loss = 0.32225943\n",
      "Iteration 122, loss = 0.32237898\n",
      "Iteration 123, loss = 0.32224246\n",
      "Iteration 124, loss = 0.32221938\n",
      "Iteration 125, loss = 0.32232415\n",
      "Iteration 126, loss = 0.32230584\n",
      "Iteration 127, loss = 0.32219036\n",
      "Iteration 128, loss = 0.32219757\n",
      "Iteration 129, loss = 0.32215665\n",
      "Iteration 130, loss = 0.32222961\n",
      "Iteration 131, loss = 0.32205927\n",
      "Iteration 132, loss = 0.32216110\n",
      "Iteration 133, loss = 0.32223728\n",
      "Iteration 134, loss = 0.32224443\n",
      "Iteration 135, loss = 0.32221045\n",
      "Iteration 136, loss = 0.32207670\n",
      "Iteration 137, loss = 0.32213166\n",
      "Iteration 138, loss = 0.32210340\n",
      "Iteration 139, loss = 0.32217189\n",
      "Iteration 140, loss = 0.32223777\n",
      "Iteration 141, loss = 0.32218986\n",
      "Iteration 142, loss = 0.32198452\n",
      "Iteration 143, loss = 0.32220738\n",
      "Iteration 144, loss = 0.32216157\n",
      "Iteration 145, loss = 0.32202812\n",
      "Iteration 146, loss = 0.32207977\n",
      "Iteration 147, loss = 0.32190162\n",
      "Iteration 148, loss = 0.32197137\n",
      "Iteration 149, loss = 0.32204762\n",
      "Iteration 150, loss = 0.32202441\n",
      "Iteration 151, loss = 0.32220044\n",
      "Iteration 152, loss = 0.32204724\n",
      "Iteration 153, loss = 0.32198916\n",
      "Iteration 154, loss = 0.32204523\n",
      "Iteration 155, loss = 0.32208655\n",
      "Iteration 156, loss = 0.32204362\n",
      "Iteration 157, loss = 0.32204654\n",
      "Iteration 158, loss = 0.32198758\n",
      "Training loss did not improve more than tol=0.000000 for 10 consecutive epochs. Stopping.\n"
     ]
    },
    {
     "data": {
      "text/plain": [
       "MLPClassifier(hidden_layer_sizes=(2, 2), max_iter=1000, tol=1e-07, verbose=True)"
      ]
     },
     "execution_count": 42,
     "metadata": {},
     "output_type": "execute_result"
    }
   ],
   "source": [
    "neural_network_censo = MLPClassifier(max_iter=1000, tol=0.000000100, hidden_layer_sizes=(2,2),activation='relu',\n",
    "                                                    solver='adam', verbose=True)\n",
    "neural_network_censo.fit(X_Censo_treinamento, y_censo_treinamento)"
   ]
  },
  {
   "cell_type": "code",
   "execution_count": 43,
   "id": "9d224641",
   "metadata": {},
   "outputs": [
    {
     "data": {
      "text/plain": [
       "array([' <=50K', ' <=50K', ' <=50K', ..., ' <=50K', ' <=50K', ' >50K'],\n",
       "      dtype='<U6')"
      ]
     },
     "execution_count": 43,
     "metadata": {},
     "output_type": "execute_result"
    }
   ],
   "source": [
    "previsao = neural_network_censo.predict(X_censo_teste)\n",
    "previsao"
   ]
  },
  {
   "cell_type": "code",
   "execution_count": 44,
   "id": "f8587b7c",
   "metadata": {},
   "outputs": [
    {
     "data": {
      "text/plain": [
       "array([' <=50K', ' <=50K', ' <=50K', ..., ' <=50K', ' <=50K', ' <=50K'],\n",
       "      dtype=object)"
      ]
     },
     "execution_count": 44,
     "metadata": {},
     "output_type": "execute_result"
    }
   ],
   "source": [
    "y_censo_teste"
   ]
  },
  {
   "cell_type": "code",
   "execution_count": 45,
   "id": "2815ee29",
   "metadata": {},
   "outputs": [
    {
     "data": {
      "text/plain": [
       "0.8433981576253838"
      ]
     },
     "execution_count": 45,
     "metadata": {},
     "output_type": "execute_result"
    }
   ],
   "source": [
    "from sklearn.metrics import accuracy_score, classification_report\n",
    "accuracy_score(y_censo_teste, previsao)"
   ]
  },
  {
   "cell_type": "code",
   "execution_count": 50,
   "id": "85ec5f4d",
   "metadata": {},
   "outputs": [
    {
     "data": {
      "text/plain": [
       "0.8433981576253838"
      ]
     },
     "execution_count": 50,
     "metadata": {},
     "output_type": "execute_result"
    },
    {
     "data": {
      "image/png": "[encoded data removed]",
      "text/plain": [
       "<Figure size 576x396 with 1 Axes>"
      ]
     },
     "metadata": {},
     "output_type": "display_data"
    }
   ],
   "source": [
    "from yellowbrick.classifier import ConfusionMatrix\n",
    "cm = ConfusionMatrix(neural_network_censo)\n",
    "cm.fit(X_Censo_treinamento, y_censo_treinamento)\n",
    "cm.score(X_censo_teste, y_censo_teste)"
   ]
  },
  {
   "cell_type": "code",
   "execution_count": 47,
   "id": "9e777a8a",
   "metadata": {},
   "outputs": [
    {
     "name": "stdout",
     "output_type": "stream",
     "text": [
      "              precision    recall  f1-score   support\n",
      "\n",
      "       <=50K       0.88      0.92      0.90      3693\n",
      "        >50K       0.71      0.61      0.66      1192\n",
      "\n",
      "    accuracy                           0.84      4885\n",
      "   macro avg       0.79      0.77      0.78      4885\n",
      "weighted avg       0.84      0.84      0.84      4885\n",
      "\n"
     ]
    }
   ],
   "source": [
    "print(classification_report(y_censo_teste, previsao))"
   ]
  }
 ],
 "metadata": {
  "kernelspec": {
   "display_name": "Python 3 (ipykernel)",
   "language": "python",
   "name": "python3"
  },
  "language_info": {
   "codemirror_mode": {
    "name": "ipython",
    "version": 3
   },
   "file_extension": ".py",
   "mimetype": "text/x-python",
   "name": "python",
   "nbconvert_exporter": "python",
   "pygments_lexer": "ipython3",
   "version": "3.9.12"
  }
 },
 "nbformat": 4,
 "nbformat_minor": 5
}
