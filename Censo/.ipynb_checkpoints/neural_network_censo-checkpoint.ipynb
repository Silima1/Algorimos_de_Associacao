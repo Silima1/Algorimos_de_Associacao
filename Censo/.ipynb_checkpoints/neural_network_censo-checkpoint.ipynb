{
 "cells": [
  {
   "cell_type": "markdown",
   "id": "ed27fe3c",
   "metadata": {},
   "source": [
    "# Analise de censo com rede neural"
   ]
  },
  {
   "cell_type": "code",
   "execution_count": 32,
   "id": "f0ab77a5",
   "metadata": {},
   "outputs": [],
   "source": [
    "from sklearn.neural_network import MLPClassifier\n",
    "import pickle"
   ]
  },
  {
   "cell_type": "code",
   "execution_count": 33,
   "id": "e2ec95a3",
   "metadata": {},
   "outputs": [],
   "source": [
    "with open('Censo.pkl', 'rb') as f:\n",
    "    X_Censo_treinamento, y_censo_treinamento, X_censo_teste, y_censo_teste = pickle.load(f)"
   ]
  },
  {
   "cell_type": "code",
   "execution_count": 34,
   "id": "66ecb6ff",
   "metadata": {},
   "outputs": [
    {
     "data": {
      "text/plain": [
       "((27676, 108), (27676,))"
      ]
     },
     "execution_count": 34,
     "metadata": {},
     "output_type": "execute_result"
    }
   ],
   "source": [
    " X_Censo_treinamento.shape, y_censo_treinamento.shape"
   ]
  },
  {
   "cell_type": "code",
   "execution_count": 35,
   "id": "6b1282e1",
   "metadata": {},
   "outputs": [
    {
     "data": {
      "text/plain": [
       "((4885, 108), (4885,))"
      ]
     },
     "execution_count": 35,
     "metadata": {},
     "output_type": "execute_result"
    }
   ],
   "source": [
    " X_censo_teste.shape, y_censo_teste.shape"
   ]
  },
  {
   "cell_type": "code",
   "execution_count": 40,
   "id": "dbef45d8",
   "metadata": {},
   "outputs": [
    {
     "name": "stdout",
     "output_type": "stream",
     "text": [
      "Iteration 1, loss = 0.51055982\n",
      "Iteration 2, loss = 0.36082938\n",
      "Iteration 3, loss = 0.34189533\n",
      "Iteration 4, loss = 0.33289795\n",
      "Iteration 5, loss = 0.32703662\n",
      "Iteration 6, loss = 0.32261489\n",
      "Iteration 7, loss = 0.31921979\n",
      "Iteration 8, loss = 0.31648967\n",
      "Iteration 9, loss = 0.31381639\n",
      "Iteration 10, loss = 0.31172776\n",
      "Iteration 11, loss = 0.31044765\n",
      "Iteration 12, loss = 0.30838775\n",
      "Iteration 13, loss = 0.30755744\n",
      "Iteration 14, loss = 0.30638618\n",
      "Iteration 15, loss = 0.30540968\n",
      "Iteration 16, loss = 0.30456868\n",
      "Iteration 17, loss = 0.30427076\n",
      "Iteration 18, loss = 0.30331402\n",
      "Iteration 19, loss = 0.30305672\n",
      "Iteration 20, loss = 0.30254365\n",
      "Iteration 21, loss = 0.30233400\n",
      "Iteration 22, loss = 0.30180683\n",
      "Iteration 23, loss = 0.30116268\n",
      "Iteration 24, loss = 0.30127132\n",
      "Iteration 25, loss = 0.30096916\n",
      "Iteration 26, loss = 0.30058427\n",
      "Iteration 27, loss = 0.30032522\n",
      "Iteration 28, loss = 0.30007435\n",
      "Iteration 29, loss = 0.29978192\n",
      "Iteration 30, loss = 0.29982755\n",
      "Iteration 31, loss = 0.29958110\n",
      "Iteration 32, loss = 0.29913068\n",
      "Iteration 33, loss = 0.29906552\n",
      "Iteration 34, loss = 0.29862952\n",
      "Iteration 35, loss = 0.29815558\n",
      "Iteration 36, loss = 0.29832192\n",
      "Iteration 37, loss = 0.29808079\n",
      "Iteration 38, loss = 0.29782556\n",
      "Iteration 39, loss = 0.29751825\n",
      "Iteration 40, loss = 0.29751543\n",
      "Iteration 41, loss = 0.29721241\n",
      "Iteration 42, loss = 0.29689013\n",
      "Iteration 43, loss = 0.29687155\n",
      "Iteration 44, loss = 0.29644378\n",
      "Iteration 45, loss = 0.29622728\n",
      "Iteration 46, loss = 0.29586681\n",
      "Iteration 47, loss = 0.29594124\n",
      "Iteration 48, loss = 0.29558996\n",
      "Iteration 49, loss = 0.29534794\n",
      "Iteration 50, loss = 0.29516889\n",
      "Iteration 51, loss = 0.29477645\n",
      "Iteration 52, loss = 0.29479789\n",
      "Iteration 53, loss = 0.29456990\n",
      "Iteration 54, loss = 0.29423790\n",
      "Iteration 55, loss = 0.29455023\n",
      "Iteration 56, loss = 0.29408447\n",
      "Iteration 57, loss = 0.29387447\n",
      "Iteration 58, loss = 0.29361857\n",
      "Iteration 59, loss = 0.29312674\n",
      "Iteration 60, loss = 0.29295915\n",
      "Iteration 61, loss = 0.29277132\n",
      "Iteration 62, loss = 0.29248838\n",
      "Iteration 63, loss = 0.29239410\n",
      "Iteration 64, loss = 0.29262486\n",
      "Iteration 65, loss = 0.29196695\n",
      "Iteration 66, loss = 0.29163432\n",
      "Iteration 67, loss = 0.29160424\n",
      "Iteration 68, loss = 0.29176651\n",
      "Iteration 69, loss = 0.29123860\n",
      "Iteration 70, loss = 0.29164118\n",
      "Iteration 71, loss = 0.29111490\n",
      "Iteration 72, loss = 0.29102321\n",
      "Iteration 73, loss = 0.29116560\n",
      "Iteration 74, loss = 0.29123065\n",
      "Iteration 75, loss = 0.29128952\n",
      "Iteration 76, loss = 0.29072681\n",
      "Iteration 77, loss = 0.29050120\n",
      "Iteration 78, loss = 0.29050705\n",
      "Iteration 79, loss = 0.29054231\n",
      "Iteration 80, loss = 0.29026162\n",
      "Iteration 81, loss = 0.29030600\n",
      "Iteration 82, loss = 0.29010545\n",
      "Iteration 83, loss = 0.29007144\n",
      "Iteration 84, loss = 0.28940273\n",
      "Iteration 85, loss = 0.28952171\n",
      "Iteration 86, loss = 0.28928016\n",
      "Iteration 87, loss = 0.28946127\n",
      "Iteration 88, loss = 0.28933028\n",
      "Iteration 89, loss = 0.28913450\n",
      "Iteration 90, loss = 0.28895311\n",
      "Iteration 91, loss = 0.28870114\n",
      "Iteration 92, loss = 0.28862402\n",
      "Iteration 93, loss = 0.28866444\n",
      "Iteration 94, loss = 0.28835527\n",
      "Iteration 95, loss = 0.28852190\n",
      "Iteration 96, loss = 0.28829879\n",
      "Iteration 97, loss = 0.28825592\n",
      "Iteration 98, loss = 0.28838492\n",
      "Iteration 99, loss = 0.28800405\n",
      "Iteration 100, loss = 0.28830814\n",
      "Iteration 101, loss = 0.28850058\n",
      "Iteration 102, loss = 0.28746429\n",
      "Iteration 103, loss = 0.28760369\n",
      "Iteration 104, loss = 0.28796529\n",
      "Iteration 105, loss = 0.28777659\n",
      "Iteration 106, loss = 0.28755618\n",
      "Iteration 107, loss = 0.28724124\n",
      "Iteration 108, loss = 0.28726017\n",
      "Iteration 109, loss = 0.28680857\n",
      "Iteration 110, loss = 0.28726496\n",
      "Iteration 111, loss = 0.28711768\n",
      "Iteration 112, loss = 0.28737607\n",
      "Iteration 113, loss = 0.28686137\n",
      "Iteration 114, loss = 0.28705415\n",
      "Iteration 115, loss = 0.28689245\n",
      "Iteration 116, loss = 0.28699174\n",
      "Iteration 117, loss = 0.28658860\n",
      "Iteration 118, loss = 0.28665606\n",
      "Iteration 119, loss = 0.28668275\n",
      "Iteration 120, loss = 0.28658032\n",
      "Iteration 121, loss = 0.28610917\n",
      "Iteration 122, loss = 0.28662594\n",
      "Iteration 123, loss = 0.28633458\n",
      "Iteration 124, loss = 0.28606026\n",
      "Iteration 125, loss = 0.28646034\n",
      "Iteration 126, loss = 0.28622291\n",
      "Iteration 127, loss = 0.28617585\n",
      "Iteration 128, loss = 0.28642061\n",
      "Iteration 129, loss = 0.28604732\n",
      "Iteration 130, loss = 0.28626880\n",
      "Iteration 131, loss = 0.28610235\n",
      "Iteration 132, loss = 0.28565087\n",
      "Iteration 133, loss = 0.28597476\n",
      "Iteration 134, loss = 0.28593123\n",
      "Iteration 135, loss = 0.28614644\n",
      "Iteration 136, loss = 0.28606896\n",
      "Iteration 137, loss = 0.28590568\n",
      "Iteration 138, loss = 0.28525501\n",
      "Iteration 139, loss = 0.28567347\n",
      "Iteration 140, loss = 0.28593241\n",
      "Iteration 141, loss = 0.28586772\n",
      "Iteration 142, loss = 0.28554232\n",
      "Iteration 143, loss = 0.28529051\n",
      "Iteration 144, loss = 0.28560216\n",
      "Iteration 145, loss = 0.28530210\n",
      "Iteration 146, loss = 0.28537155\n",
      "Iteration 147, loss = 0.28521566\n",
      "Iteration 148, loss = 0.28537702\n",
      "Iteration 149, loss = 0.28512700\n",
      "Iteration 150, loss = 0.28510751\n",
      "Iteration 151, loss = 0.28512530\n",
      "Iteration 152, loss = 0.28465531\n",
      "Iteration 153, loss = 0.28512949\n",
      "Iteration 154, loss = 0.28490717\n",
      "Iteration 155, loss = 0.28524089\n",
      "Iteration 156, loss = 0.28538872\n",
      "Iteration 157, loss = 0.28485659\n",
      "Iteration 158, loss = 0.28530735\n",
      "Iteration 159, loss = 0.28485738\n",
      "Iteration 160, loss = 0.28485694\n",
      "Iteration 161, loss = 0.28446059\n",
      "Iteration 162, loss = 0.28491011\n",
      "Iteration 163, loss = 0.28468187\n",
      "Iteration 164, loss = 0.28482210\n",
      "Iteration 165, loss = 0.28423872\n",
      "Iteration 166, loss = 0.28503163\n",
      "Iteration 167, loss = 0.28463383\n",
      "Iteration 168, loss = 0.28461991\n",
      "Iteration 169, loss = 0.28405323\n",
      "Iteration 170, loss = 0.28450706\n",
      "Iteration 171, loss = 0.28427238\n",
      "Iteration 172, loss = 0.28387010\n",
      "Iteration 173, loss = 0.28425351\n",
      "Iteration 174, loss = 0.28404892\n",
      "Iteration 175, loss = 0.28412947\n",
      "Iteration 176, loss = 0.28407179\n",
      "Iteration 177, loss = 0.28404451\n",
      "Iteration 178, loss = 0.28388430\n",
      "Iteration 179, loss = 0.28401879\n",
      "Iteration 180, loss = 0.28392955\n",
      "Iteration 181, loss = 0.28391958\n",
      "Iteration 182, loss = 0.28344680\n",
      "Iteration 183, loss = 0.28350252\n",
      "Iteration 184, loss = 0.28357997\n",
      "Iteration 185, loss = 0.28410275\n",
      "Iteration 186, loss = 0.28358238\n",
      "Iteration 187, loss = 0.28362850\n",
      "Iteration 188, loss = 0.28357529\n",
      "Iteration 189, loss = 0.28391651\n",
      "Iteration 190, loss = 0.28346848\n",
      "Iteration 191, loss = 0.28346524\n",
      "Iteration 192, loss = 0.28299779\n",
      "Iteration 193, loss = 0.28347190\n",
      "Iteration 194, loss = 0.28331850\n",
      "Iteration 195, loss = 0.28302703\n",
      "Iteration 196, loss = 0.28328718\n",
      "Iteration 197, loss = 0.28348666\n",
      "Iteration 198, loss = 0.28334781\n",
      "Iteration 199, loss = 0.28321121\n",
      "Iteration 200, loss = 0.28299791\n",
      "Iteration 201, loss = 0.28310749\n",
      "Iteration 202, loss = 0.28317033\n",
      "Iteration 203, loss = 0.28278681\n",
      "Iteration 204, loss = 0.28307661\n",
      "Iteration 205, loss = 0.28271307\n",
      "Iteration 206, loss = 0.28250692\n",
      "Iteration 207, loss = 0.28263472\n",
      "Iteration 208, loss = 0.28309827\n",
      "Iteration 209, loss = 0.28244738\n",
      "Iteration 210, loss = 0.28267692\n",
      "Iteration 211, loss = 0.28280647\n",
      "Iteration 212, loss = 0.28307024\n",
      "Iteration 213, loss = 0.28260998\n",
      "Iteration 214, loss = 0.28246196\n",
      "Iteration 215, loss = 0.28264562\n",
      "Iteration 216, loss = 0.28251964\n",
      "Iteration 217, loss = 0.28240422\n",
      "Iteration 218, loss = 0.28220466\n",
      "Iteration 219, loss = 0.28288655\n",
      "Iteration 220, loss = 0.28209942\n",
      "Iteration 221, loss = 0.28232618\n",
      "Iteration 222, loss = 0.28199188\n",
      "Iteration 223, loss = 0.28240657\n",
      "Iteration 224, loss = 0.28252424\n",
      "Iteration 225, loss = 0.28221501\n",
      "Iteration 226, loss = 0.28195606\n",
      "Iteration 227, loss = 0.28184866\n",
      "Iteration 228, loss = 0.28175861\n",
      "Iteration 229, loss = 0.28183248\n",
      "Iteration 230, loss = 0.28215176\n",
      "Iteration 231, loss = 0.28196843\n",
      "Iteration 232, loss = 0.28205624\n",
      "Iteration 233, loss = 0.28222909\n",
      "Iteration 234, loss = 0.28148804\n",
      "Iteration 235, loss = 0.28181566\n",
      "Iteration 236, loss = 0.28154998\n",
      "Iteration 237, loss = 0.28137458\n",
      "Iteration 238, loss = 0.28177656\n",
      "Iteration 239, loss = 0.28174343\n",
      "Iteration 240, loss = 0.28232294\n",
      "Iteration 241, loss = 0.28130432\n",
      "Iteration 242, loss = 0.28190418\n",
      "Iteration 243, loss = 0.28168961\n",
      "Iteration 244, loss = 0.28128864\n",
      "Iteration 245, loss = 0.28140298\n",
      "Iteration 246, loss = 0.28132591\n",
      "Iteration 247, loss = 0.28109774\n",
      "Iteration 248, loss = 0.28137304\n",
      "Iteration 249, loss = 0.28139929\n",
      "Iteration 250, loss = 0.28096142\n",
      "Iteration 251, loss = 0.28113576\n",
      "Iteration 252, loss = 0.28106294\n"
     ]
    },
    {
     "name": "stdout",
     "output_type": "stream",
     "text": [
      "Iteration 253, loss = 0.28095737\n",
      "Iteration 254, loss = 0.28102889\n",
      "Iteration 255, loss = 0.28129238\n",
      "Iteration 256, loss = 0.28114124\n",
      "Iteration 257, loss = 0.28105771\n",
      "Iteration 258, loss = 0.28142119\n",
      "Iteration 259, loss = 0.28106779\n",
      "Iteration 260, loss = 0.28136331\n",
      "Iteration 261, loss = 0.28073898\n",
      "Iteration 262, loss = 0.28086338\n",
      "Iteration 263, loss = 0.28061950\n",
      "Iteration 264, loss = 0.28020100\n",
      "Iteration 265, loss = 0.28062741\n",
      "Iteration 266, loss = 0.28089279\n",
      "Iteration 267, loss = 0.28089592\n",
      "Iteration 268, loss = 0.28024138\n",
      "Iteration 269, loss = 0.28107000\n",
      "Iteration 270, loss = 0.28100741\n",
      "Iteration 271, loss = 0.28087574\n",
      "Iteration 272, loss = 0.28088818\n",
      "Iteration 273, loss = 0.28094952\n",
      "Iteration 274, loss = 0.28044642\n",
      "Iteration 275, loss = 0.28071440\n",
      "Training loss did not improve more than tol=0.000000 for 10 consecutive epochs. Stopping.\n"
     ]
    },
    {
     "data": {
      "text/plain": [
       "MLPClassifier(hidden_layer_sizes=(7, 8, 10, 5), max_iter=1000, tol=1e-07,\n",
       "              verbose=True)"
      ]
     },
     "execution_count": 40,
     "metadata": {},
     "output_type": "execute_result"
    }
   ],
   "source": [
    "neural_network_censo = MLPClassifier(max_iter=1000, tol=0.000000100, hidden_layer_sizes=(7,8,10,5),activation='relu',\n",
    "                                                    solver='adam', verbose=True)\n",
    "neural_network_censo.fit(X_Censo_treinamento, y_censo_treinamento)"
   ]
  },
  {
   "cell_type": "code",
   "execution_count": 41,
   "id": "8a9da7f2",
   "metadata": {},
   "outputs": [
    {
     "data": {
      "text/plain": [
       "array([' <=50K', ' <=50K', ' <=50K', ..., ' <=50K', ' <=50K', ' >50K'],\n",
       "      dtype='<U6')"
      ]
     },
     "execution_count": 41,
     "metadata": {},
     "output_type": "execute_result"
    }
   ],
   "source": [
    "previsao = neural_network_censo.predict(X_censo_teste)\n",
    "previsao"
   ]
  },
  {
   "cell_type": "code",
   "execution_count": 42,
   "id": "545d8034",
   "metadata": {},
   "outputs": [
    {
     "data": {
      "text/plain": [
       "array([' <=50K', ' <=50K', ' <=50K', ..., ' <=50K', ' <=50K', ' <=50K'],\n",
       "      dtype=object)"
      ]
     },
     "execution_count": 42,
     "metadata": {},
     "output_type": "execute_result"
    }
   ],
   "source": [
    "y_censo_teste"
   ]
  },
  {
   "cell_type": "code",
   "execution_count": 43,
   "id": "7df0f84b",
   "metadata": {},
   "outputs": [
    {
     "data": {
      "text/plain": [
       "0.842374616171955"
      ]
     },
     "execution_count": 43,
     "metadata": {},
     "output_type": "execute_result"
    }
   ],
   "source": [
    "from sklearn.metrics import accuracy_score, classification_report\n",
    "accuracy_score(y_censo_teste, previsao)"
   ]
  },
  {
   "cell_type": "code",
   "execution_count": 44,
   "id": "e6bf2eb7",
   "metadata": {},
   "outputs": [
    {
     "data": {
      "text/plain": [
       "0.842374616171955"
      ]
     },
     "execution_count": 44,
     "metadata": {},
     "output_type": "execute_result"
    },
    {
     "data": {
      "image/png": "[encoded data removed]",
      "text/plain": [
       "<Figure size 576x396 with 1 Axes>"
      ]
     },
     "metadata": {},
     "output_type": "display_data"
    }
   ],
   "source": [
    "from yellowbrick.classifier import ConfusionMatrix\n",
    "cm = ConfusionMatrix(neural_network_censo)\n",
    "cm.fit(X_Censo_treinamento, y_censo_treinamento)\n",
    "cm.score(X_censo_teste, y_censo_teste)"
   ]
  },
  {
   "cell_type": "code",
   "execution_count": 45,
   "id": "43c1548d",
   "metadata": {},
   "outputs": [
    {
     "name": "stdout",
     "output_type": "stream",
     "text": [
      "              precision    recall  f1-score   support\n",
      "\n",
      "       <=50K       0.87      0.92      0.90      3693\n",
      "        >50K       0.71      0.59      0.65      1192\n",
      "\n",
      "    accuracy                           0.84      4885\n",
      "   macro avg       0.79      0.76      0.77      4885\n",
      "weighted avg       0.84      0.84      0.84      4885\n",
      "\n"
     ]
    }
   ],
   "source": [
    "print(classification_report(y_censo_teste, previsao))"
   ]
  },
  {
   "cell_type": "code",
   "execution_count": null,
   "id": "57882efd",
   "metadata": {},
   "outputs": [],
   "source": []
  },
  {
   "cell_type": "code",
   "execution_count": null,
   "id": "bdb2ce93",
   "metadata": {},
   "outputs": [],
   "source": []
  },
  {
   "cell_type": "code",
   "execution_count": null,
   "id": "4576b231",
   "metadata": {},
   "outputs": [],
   "source": []
  },
  {
   "cell_type": "code",
   "execution_count": null,
   "id": "b15d14ad",
   "metadata": {},
   "outputs": [],
   "source": []
  }
 ],
 "metadata": {
  "kernelspec": {
   "display_name": "Python 3 (ipykernel)",
   "language": "python",
   "name": "python3"
  },
  "language_info": {
   "codemirror_mode": {
    "name": "ipython",
    "version": 3
   },
   "file_extension": ".py",
   "mimetype": "text/x-python",
   "name": "python",
   "nbconvert_exporter": "python",
   "pygments_lexer": "ipython3",
   "version": "3.9.12"
  }
 },
 "nbformat": 4,
 "nbformat_minor": 5
}
