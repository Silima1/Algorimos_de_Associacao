{
 "cells": [
  {
   "cell_type": "markdown",
   "id": "f86fd057",
   "metadata": {},
   "source": [
    "# Analise de credito com base OneR - algoritmos por regras"
   ]
  },
  {
   "cell_type": "code",
   "execution_count": 110,
   "id": "7faf164e",
   "metadata": {},
   "outputs": [],
   "source": [
    "import Orange # Importacao da biblioteca"
   ]
  },
  {
   "cell_type": "code",
   "execution_count": 111,
   "id": "bbce7af8",
   "metadata": {},
   "outputs": [
    {
     "data": {
      "text/plain": [
       "[income, age, loan | default]"
      ]
     },
     "execution_count": 111,
     "metadata": {},
     "output_type": "execute_result"
    }
   ],
   "source": [
    "base_credito = Orange.data.Table('../Dados/Bases_de_dados/credit_data_regras.csv')\n",
    "base_credito.domain"
   ]
  },
  {
   "cell_type": "code",
   "execution_count": 112,
   "id": "ce337b84",
   "metadata": {},
   "outputs": [
    {
     "data": {
      "text/plain": [
       "([[38477.3, 27.3463, 289.577 | 0],\n",
       "  [62955.6, 29.5495, 207.544 | 0],\n",
       "  [30530, 47.6044, 6046.84 | 0],\n",
       "  [69465.7, 20.5852, 7983.71 | 0],\n",
       "  [62889.4, 33.2457, 6525.15 | 0],\n",
       "  ...\n",
       " ],\n",
       " [[68936.3, 43.3651, 11073.2 | 0],\n",
       "  [21982, 34.9155, 4265.17 | 1],\n",
       "  [22371.5, 39.1422, 2291.86 | 0],\n",
       "  [28219, 42.6244, 1305.08 | 0],\n",
       "  [60921.1, 18.8405, 968.836 | 0],\n",
       "  ...\n",
       " ])"
      ]
     },
     "execution_count": 112,
     "metadata": {},
     "output_type": "execute_result"
    }
   ],
   "source": [
    "base_dividida = Orange.evaluation.testing.sample(base_credito, n=0.25) # Divisao de dados de treinamento e teste\n",
    "base_dividida"
   ]
  },
  {
   "cell_type": "code",
   "execution_count": 113,
   "id": "fd70417a",
   "metadata": {},
   "outputs": [
    {
     "data": {
      "text/plain": [
       "[[38477.3, 27.3463, 289.577 | 0],\n",
       " [62955.6, 29.5495, 207.544 | 0],\n",
       " [30530, 47.6044, 6046.84 | 0],\n",
       " [69465.7, 20.5852, 7983.71 | 0],\n",
       " [62889.4, 33.2457, 6525.15 | 0],\n",
       " ...\n",
       "]"
      ]
     },
     "execution_count": 113,
     "metadata": {},
     "output_type": "execute_result"
    }
   ],
   "source": [
    "base_dividida[0] # Base de teste"
   ]
  },
  {
   "cell_type": "code",
   "execution_count": 114,
   "id": "0fdbc559",
   "metadata": {},
   "outputs": [
    {
     "data": {
      "text/plain": [
       "[[68936.3, 43.3651, 11073.2 | 0],\n",
       " [21982, 34.9155, 4265.17 | 1],\n",
       " [22371.5, 39.1422, 2291.86 | 0],\n",
       " [28219, 42.6244, 1305.08 | 0],\n",
       " [60921.1, 18.8405, 968.836 | 0],\n",
       " ...\n",
       "]"
      ]
     },
     "execution_count": 114,
     "metadata": {},
     "output_type": "execute_result"
    }
   ],
   "source": [
    "base_dividida[1] # Base de treinamento"
   ]
  },
  {
   "cell_type": "code",
   "execution_count": 115,
   "id": "dcf551f7",
   "metadata": {},
   "outputs": [],
   "source": [
    "base_treinamento = base_dividida[1] # Atribuicao de variavel aos dados de treinamento"
   ]
  },
  {
   "cell_type": "code",
   "execution_count": 116,
   "id": "b9fab760",
   "metadata": {},
   "outputs": [],
   "source": [
    "base_teste = base_dividida[0] # Atribuicao de variavel aos dados de teste"
   ]
  },
  {
   "cell_type": "code",
   "execution_count": 117,
   "id": "20d0aca9",
   "metadata": {},
   "outputs": [
    {
     "data": {
      "text/plain": [
       "(1500, 500)"
      ]
     },
     "execution_count": 117,
     "metadata": {},
     "output_type": "execute_result"
    }
   ],
   "source": [
    "len(base_treinamento), len(base_teste) # Visualizacao do tamanho de dados de treinamento e teste"
   ]
  },
  {
   "cell_type": "code",
   "execution_count": 118,
   "id": "d6e7ea2d",
   "metadata": {},
   "outputs": [
    {
     "data": {
      "text/plain": [
       "CN2Classifier(domain=[income, age, loan | default],\n",
       "              rule_list=[<Orange.classification.rules.Rule at 0x2131d94c5e0>,\n",
       "               <Orange.classification.rules.Rule at 0x2131d94c880>,\n",
       "               <Orange.classification.rules.Rule at 0x2131d94c9d0>,\n",
       "               <Orange.classification.rules.Rule at 0x2131d94c520>,\n",
       "               <Orange.classification.rules.Rule at 0x2131d94c790>,\n",
       "               <Orange.classification.rules.Rule at 0x2131d94c940>,\n",
       "               <Orange.classification.rules.Rule at 0x2131d94cac0>,\n",
       "               <Orange.classification.rules.Rule at 0x2131d94c9a0>,\n",
       "               <Orange.classification.rules.Rule at 0x2131d94ce20>,\n",
       "               <Orange.classification.rules.Rule at 0x2131d94cfd0>,\n",
       "               <Orange.classification.rules.Rule at 0x2131d94cc70>,\n",
       "               <Orange.classification.rules.Rule at 0x2131d94cbb0>,\n",
       "               <Orange.classification.rules.Rule at 0x2131d94c280>,\n",
       "               <Orange.classification.rules.Rule at 0x2131d94c7f0>,\n",
       "               <Orange.classification.rules.Rule at 0x2131d94cc10>,\n",
       "               <Orange.classification.rules.Rule at 0x2131d94c190>,\n",
       "               <Orange.classification.rules.Rule at 0x2131d94c730>,\n",
       "               <Orange.classification.rules.Rule at 0x2131d94cee0>,\n",
       "               <Orange.classification.rules.Rule at 0x2131d94cca0>,\n",
       "               <Orange.classification.rules.Rule at 0x2131d94ce80>,\n",
       "               <Orange.classification.rules.Rule at 0x2131d941160>,\n",
       "               <Orange.classification.rules.Rule at 0x2131d94c610>,\n",
       "               <Orange.classification.rules.Rule at 0x2131d94ccd0>,\n",
       "               <Orange.classification.rules.Rule at 0x2131d941970>,\n",
       "               <Orange.classification.rules.Rule at 0x2131d941100>,\n",
       "               <Orange.classification.rules.Rule at 0x2131d941ac0>,\n",
       "               <Orange.classification.rules.Rule at 0x2131d941340>,\n",
       "               <Orange.classification.rules.Rule at 0x2131d9411c0>])"
      ]
     },
     "execution_count": 118,
     "metadata": {},
     "output_type": "execute_result"
    }
   ],
   "source": [
    "cn2 = Orange.classification.rules.CN2Learner() # Criacao de variavel para o treinamento\n",
    "Treino_regras = cn2(base_treinamento) #treinamento do algoritmo\n",
    "Treino_regras"
   ]
  },
  {
   "cell_type": "code",
   "execution_count": 119,
   "id": "a3fe0b0e",
   "metadata": {},
   "outputs": [
    {
     "name": "stdout",
     "output_type": "stream",
     "text": [
      "IF age>=34.9257164876908 THEN default=0 \n",
      "IF income>=69395.1164768077 THEN default=1 \n",
      "IF loan>=7708.31562497011 THEN default=1 \n",
      "IF income>=58132.4712652713 THEN default=0 \n",
      "IF age>=34.8313612546772 THEN default=1 \n",
      "IF loan<=2971.00330971188 AND income>=24821.214126422998 THEN default=0 \n",
      "IF loan<=2495.13299137587 AND income>=20145.9885970689 THEN default=0 \n",
      "IF loan>=5836.56338145928 AND age>=26.854012909811 THEN default=1 \n",
      "IF age>=34.5792021681555 THEN default=0 \n",
      "IF loan>=6415.0862444378 THEN default=1 \n",
      "IF income>=46696.8926647678 AND income>=50360.6787929311 THEN default=0 \n",
      "IF loan>=5836.56338145928 THEN default=1 \n",
      "IF loan>=5722.58198121271 THEN default=0 \n",
      "IF income<=32306.8084008992 AND loan>=3665.88089899456 THEN default=1 \n",
      "IF age>=33.9493660898879 THEN default=0 \n",
      "IF income<=29724.4768752716 AND loan>=3133.6244473393394 THEN default=1 \n",
      "IF income>=38129.754869733 AND income>=46024.1445619613 THEN default=0 \n",
      "IF income<=22089.8374845274 AND age>=23.238169600255798 THEN default=1 \n",
      "IF loan<=4849.33378471958 AND income>=37277.1230572835 THEN default=0 \n",
      "IF loan<=4285.38691174949 AND income>=33489.0398592688 THEN default=0 \n",
      "IF loan>=4285.38691174949 AND loan>=5521.5074051112 THEN default=1 \n",
      "IF income>=42522.5757574663 THEN default=0 \n",
      "IF income>=33198.1282844208 THEN default=1 \n",
      "IF loan>=4367.26495019919 THEN default=1 \n",
      "IF income>=29724.4768752716 THEN default=0 \n",
      "IF income>=24500.1419843175 THEN default=1 \n",
      "IF income<=22089.8374845274 THEN default=0 \n",
      "IF TRUE THEN default=0 \n"
     ]
    }
   ],
   "source": [
    "for regras in Treino_regras.rule_list: # Os clientes com default = 0 pagam dividas e = 1 nao pagam dividas \n",
    "    print(regras)"
   ]
  },
  {
   "cell_type": "code",
   "execution_count": 122,
   "id": "e416f444",
   "metadata": {},
   "outputs": [
    {
     "data": {
      "text/plain": [
       "<Orange.evaluation.testing.Results at 0x2131d91f1c0>"
      ]
     },
     "execution_count": 122,
     "metadata": {},
     "output_type": "execute_result"
    }
   ],
   "source": [
    "previsao = Orange.evaluation.testing.TestOnTestData(base_treinamento, base_teste, [lambda testdata: Treino_regras])\n",
    "previsao"
   ]
  },
  {
   "cell_type": "code",
   "execution_count": 123,
   "id": "86a46a33",
   "metadata": {},
   "outputs": [
    {
     "data": {
      "text/plain": [
       "array([0.976])"
      ]
     },
     "execution_count": 123,
     "metadata": {},
     "output_type": "execute_result"
    }
   ],
   "source": [
    "Orange.evaluation.CA(previsao) # Tem uma acuracia de 97.6%, mas pode variar cada vez que for executado # Classification accuracy (CA)"
   ]
  },
  {
   "cell_type": "code",
   "execution_count": null,
   "id": "3b3c8aab",
   "metadata": {},
   "outputs": [],
   "source": []
  }
 ],
 "metadata": {
  "kernelspec": {
   "display_name": "Python 3 (ipykernel)",
   "language": "python",
   "name": "python3"
  },
  "language_info": {
   "codemirror_mode": {
    "name": "ipython",
    "version": 3
   },
   "file_extension": ".py",
   "mimetype": "text/x-python",
   "name": "python",
   "nbconvert_exporter": "python",
   "pygments_lexer": "ipython3",
   "version": "3.9.12"
  }
 },
 "nbformat": 4,
 "nbformat_minor": 5
}
