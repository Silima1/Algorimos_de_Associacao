{
 "cells": [
  {
   "cell_type": "markdown",
   "id": "5b1a955b",
   "metadata": {},
   "source": [
    "# Analise de risco de credito com base no algoritmos de OneR/regras"
   ]
  },
  {
   "cell_type": "code",
   "execution_count": 4,
   "id": "ab887b8f",
   "metadata": {},
   "outputs": [],
   "source": [
    "import Orange"
   ]
  },
  {
   "cell_type": "code",
   "execution_count": 12,
   "id": "c33cbe2f",
   "metadata": {},
   "outputs": [
    {
     "data": {
      "text/plain": [
       "[[ruim, alta, nenhuma, 0_15 | alto],\n",
       " [desconhecida, alta, nenhuma, 15_35 | alto],\n",
       " [desconhecida, baixa, nenhuma, 15_35 | moderado],\n",
       " [desconhecida, baixa, nenhuma, acima_35 | alto],\n",
       " [desconhecida, baixa, nenhuma, acima_35 | baixo],\n",
       " ...\n",
       "]"
      ]
     },
     "execution_count": 12,
     "metadata": {},
     "output_type": "execute_result"
    }
   ],
   "source": [
    "base_risco_credito=Orange.data.Table('../Dados/Bases_de_dados/risco_credito_regras.csv')\n",
    "base_risco_credito"
   ]
  },
  {
   "cell_type": "code",
   "execution_count": 13,
   "id": "fcac3783",
   "metadata": {},
   "outputs": [
    {
     "data": {
      "text/plain": [
       "[historia, divida, garantias, renda | risco]"
      ]
     },
     "execution_count": 13,
     "metadata": {},
     "output_type": "execute_result"
    }
   ],
   "source": [
    "base_risco_credito.domain # PAra visualizar a estrutura da tabela de dados "
   ]
  },
  {
   "cell_type": "code",
   "execution_count": 22,
   "id": "7881e6dd",
   "metadata": {},
   "outputs": [
    {
     "data": {
      "text/plain": [
       "CN2Classifier(domain=[historia, divida, garantias, renda | risco],\n",
       "              rule_list=[<Orange.classification.rules.Rule at 0x2633bde4190>,\n",
       "               <Orange.classification.rules.Rule at 0x2633bde4e50>,\n",
       "               <Orange.classification.rules.Rule at 0x2633bde1a90>,\n",
       "               <Orange.classification.rules.Rule at 0x2633bde1c70>,\n",
       "               <Orange.classification.rules.Rule at 0x2633bde4a00>,\n",
       "               <Orange.classification.rules.Rule at 0x2633bdf8940>,\n",
       "               <Orange.classification.rules.Rule at 0x2633bde1fa0>,\n",
       "               <Orange.classification.rules.Rule at 0x2633bde1a30>,\n",
       "               <Orange.classification.rules.Rule at 0x2633bde1580>,\n",
       "               <Orange.classification.rules.Rule at 0x2633bde15e0>,\n",
       "               <Orange.classification.rules.Rule at 0x2633bde1e50>])"
      ]
     },
     "execution_count": 22,
     "metadata": {},
     "output_type": "execute_result"
    }
   ],
   "source": [
    "cn2 = Orange.classification.rules.CN2Learner() # Algoritmo de treinamento\n",
    "regras_risco_credito = cn2(base_risco_credito) # Criacao de variavel para receber cn2 e treinar a base\n",
    "regras_risco_credito"
   ]
  },
  {
   "cell_type": "code",
   "execution_count": 25,
   "id": "12ca9217",
   "metadata": {},
   "outputs": [
    {
     "name": "stdout",
     "output_type": "stream",
     "text": [
      "IF renda==0_15 THEN risco=alto \n",
      "IF historia==boa AND divida!=alta THEN risco=baixo \n",
      "IF historia==boa AND garantias!=nenhuma THEN risco=baixo \n",
      "IF historia==boa AND renda!=15_35 THEN risco=baixo \n",
      "IF historia==boa THEN risco=moderado \n",
      "IF divida==alta THEN risco=alto \n",
      "IF historia!=desconhecida THEN risco=moderado \n",
      "IF garantias==adequada THEN risco=baixo \n",
      "IF renda==15_35 THEN risco=moderado \n",
      "IF historia==desconhecida THEN risco=baixo \n",
      "IF TRUE THEN risco=alto \n"
     ]
    }
   ],
   "source": [
    "for regras in regras_risco_credito.rule_list: #Visualizacao das regras\n",
    "    print(regras)\n"
   ]
  },
  {
   "cell_type": "code",
   "execution_count": 31,
   "id": "8a70cc26",
   "metadata": {},
   "outputs": [
    {
     "data": {
      "text/plain": [
       "array([1, 0], dtype=int64)"
      ]
     },
     "execution_count": 31,
     "metadata": {},
     "output_type": "execute_result"
    }
   ],
   "source": [
    "# previsoes - dados\n",
    "# historia boa, divida alta, garantias nenhuma e renda >35\n",
    "# historia ruim, divida alta, garantias adequadas e renda <15\n",
    "previsao = regras_risco_credito([['boa','alta','nenhuma','acima_35'], ['ruim', 'alta', 'adequada', '0_15']])\n",
    "previsao"
   ]
  },
  {
   "cell_type": "code",
   "execution_count": 33,
   "id": "99690cf6",
   "metadata": {},
   "outputs": [
    {
     "data": {
      "text/plain": [
       "('alto', 'baixo', 'moderado')"
      ]
     },
     "execution_count": 33,
     "metadata": {},
     "output_type": "execute_result"
    }
   ],
   "source": [
    "base_risco_credito.domain.class_var.values # visualizacao das variaveis da classe"
   ]
  },
  {
   "cell_type": "code",
   "execution_count": 39,
   "id": "46b2ca7c",
   "metadata": {},
   "outputs": [
    {
     "name": "stdout",
     "output_type": "stream",
     "text": [
      "baixo\n",
      "alto\n"
     ]
    }
   ],
   "source": [
    "for i in previsao:\n",
    "    print(base_risco_credito.domain.class_var.values[i])"
   ]
  },
  {
   "cell_type": "code",
   "execution_count": null,
   "id": "a7e2bda0",
   "metadata": {},
   "outputs": [],
   "source": []
  }
 ],
 "metadata": {
  "kernelspec": {
   "display_name": "Python 3 (ipykernel)",
   "language": "python",
   "name": "python3"
  },
  "language_info": {
   "codemirror_mode": {
    "name": "ipython",
    "version": 3
   },
   "file_extension": ".py",
   "mimetype": "text/x-python",
   "name": "python",
   "nbconvert_exporter": "python",
   "pygments_lexer": "ipython3",
   "version": "3.9.12"
  }
 },
 "nbformat": 4,
 "nbformat_minor": 5
}
