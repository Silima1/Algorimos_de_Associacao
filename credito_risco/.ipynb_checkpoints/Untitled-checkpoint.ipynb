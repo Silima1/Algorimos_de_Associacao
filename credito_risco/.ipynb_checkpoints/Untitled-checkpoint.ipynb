{
 "cells": [
  {
   "cell_type": "code",
   "execution_count": null,
   "id": "91f7497e",
   "metadata": {},
   "outputs": [],
   "source": [
    "# PREVISAO DE RISCO DE CREDITOS\n",
    "import pandas as pd\n",
    "import numpy as np\n",
    "import seaborn as sns # paara visualização de gráficos\n",
    "import matplotlib.pyplot as plt # paara visualização de gráficos\n",
    "import plotly.express as px # para gerar gráficos dinamicos\n"
   ]
  },
  {
   "cell_type": "code",
   "execution_count": null,
   "id": "ad7d9e32",
   "metadata": {},
   "outputs": [],
   "source": []
  },
  {
   "cell_type": "code",
   "execution_count": null,
   "id": "22b50194",
   "metadata": {},
   "outputs": [],
   "source": []
  },
  {
   "cell_type": "code",
   "execution_count": null,
   "id": "6d6e1b14",
   "metadata": {},
   "outputs": [],
   "source": []
  },
  {
   "cell_type": "code",
   "execution_count": null,
   "id": "2726eb68",
   "metadata": {},
   "outputs": [],
   "source": []
  }
 ],
 "metadata": {
  "kernelspec": {
   "display_name": "Python 3 (ipykernel)",
   "language": "python",
   "name": "python3"
  },
  "language_info": {
   "codemirror_mode": {
    "name": "ipython",
    "version": 3
   },
   "file_extension": ".py",
   "mimetype": "text/x-python",
   "name": "python",
   "nbconvert_exporter": "python",
   "pygments_lexer": "ipython3",
   "version": "3.9.7"
  }
 },
 "nbformat": 4,
 "nbformat_minor": 5
}
